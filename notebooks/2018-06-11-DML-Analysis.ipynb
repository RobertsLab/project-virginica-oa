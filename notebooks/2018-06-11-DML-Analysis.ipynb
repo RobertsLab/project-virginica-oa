{
 "cells": [
  {
   "cell_type": "markdown",
   "metadata": {},
   "source": [
    "# DML Analysis\n",
    "\n",
    "In this notebook, I will examine the location of differentially methylated loci (DMLs) in the *C. virginica* genome. The DMLs were identified using methylKit in [this R script](https://github.com/RobertsLab/project-virginica-oa/blob/master/analyses/2018-05-29-MethylKit-Full-Samples/2018-05-29-MethylKit-Analysis-Full-Samples.R). DMLs were then written out as a [bedfile](https://github.com/RobertsLab/project-virginica-oa/blob/master/analyses/2018-05-29-MethylKit-Full-Samples/2018-05-30-DML-Locations.bed). Using this file, I will begin the analysis derived from [Steven's  notebook](https://github.com/sr320/nb-2018/blob/master/C_virginica/21-Bedtools.ipynb).\n",
    "\n",
    "1. Identify Overlaps with DMLs and Genomimc Feature Tracks\n",
    "2. Calculate Overlap Proprtions\n",
    "3. Gene Flanking\n",
    "4. Enrichment Analysis"
   ]
  },
  {
   "cell_type": "markdown",
   "metadata": {},
   "source": [
    "## 0. Set working directory"
   ]
  },
  {
   "cell_type": "code",
   "execution_count": 1,
   "metadata": {
    "collapsed": false
   },
   "outputs": [
    {
     "data": {
      "text/plain": [
       "'/Users/yaamini/Documents/project-virginica-oa/notebooks'"
      ]
     },
     "execution_count": 1,
     "metadata": {},
     "output_type": "execute_result"
    }
   ],
   "source": [
    "pwd"
   ]
  },
  {
   "cell_type": "code",
   "execution_count": 2,
   "metadata": {
    "collapsed": false
   },
   "outputs": [
    {
     "name": "stdout",
     "output_type": "stream",
     "text": [
      "/Users/yaamini/Documents/project-virginica-oa/analyses\n"
     ]
    }
   ],
   "source": [
    "cd ../analyses/"
   ]
  },
  {
   "cell_type": "code",
   "execution_count": 12,
   "metadata": {
    "collapsed": false
   },
   "outputs": [
    {
     "data": {
      "text/plain": [
       "'/Users/yaamini/Documents/project-virginica-oa/analyses'"
      ]
     },
     "execution_count": 12,
     "metadata": {},
     "output_type": "execute_result"
    }
   ],
   "source": [
    "pwd"
   ]
  },
  {
   "cell_type": "code",
   "execution_count": 13,
   "metadata": {
    "collapsed": true
   },
   "outputs": [],
   "source": [
    "!mkdir 2018-06-11-DML-Analysis"
   ]
  },
  {
   "cell_type": "code",
   "execution_count": 14,
   "metadata": {
    "collapsed": false
   },
   "outputs": [
    {
     "name": "stdout",
     "output_type": "stream",
     "text": [
      "0516_bismark.err                     \u001b[34m2018-05-04-Bismark-Full-Samples\u001b[m\u001b[m/\r\n",
      "0516_bme.err                         \u001b[34m2018-05-22-Bismark-Full-Samples\u001b[m\u001b[m/\r\n",
      "0516_dedup.err                       \u001b[34m2018-05-22-Bismark-Subset\u001b[m\u001b[m/\r\n",
      "\u001b[34m2018-01-23-MBDSeq-Labwork\u001b[m\u001b[m/           \u001b[34m2018-05-29-MethylKit-Full-Samples\u001b[m\u001b[m/\r\n",
      "\u001b[34m2018-04-26-Gonad-Methylation-FastQC\u001b[m\u001b[m/ \u001b[34m2018-06-11-DML-Analysis\u001b[m\u001b[m/\r\n",
      "\u001b[34m2018-04-27-Bismark\u001b[m\u001b[m/                  README.md\r\n",
      "\u001b[34m2018-05-01-MethylKit\u001b[m\u001b[m/\r\n"
     ]
    }
   ],
   "source": [
    "ls"
   ]
  },
  {
   "cell_type": "code",
   "execution_count": 3,
   "metadata": {
    "collapsed": false
   },
   "outputs": [
    {
     "name": "stdout",
     "output_type": "stream",
     "text": [
      "/Users/yaamini/Documents/project-virginica-oa/analyses/2018-06-11-DML-Analysis\n"
     ]
    }
   ],
   "source": [
    "cd 2018-06-11-DML-Analysis/"
   ]
  },
  {
   "cell_type": "markdown",
   "metadata": {},
   "source": [
    "## 1. Identify Overlaps with DMLs and Genomic Feature Tracks"
   ]
  },
  {
   "cell_type": "markdown",
   "metadata": {},
   "source": [
    "To identify the location of DMLs in the *C. virginica* genome, I will use `intersect` from `bedtools`. [The BEDtools suite](http://bedtools.readthedocs.io/en/latest/content/bedtools-suite.html) allows me to easily find overlapping regions of different bed files."
   ]
  },
  {
   "cell_type": "markdown",
   "metadata": {},
   "source": [
    "### 1a. Locate BEDfiles for Analysis"
   ]
  },
  {
   "cell_type": "markdown",
   "metadata": {},
   "source": [
    "The BEDfile with DMLs can be viewed below. Columns are are the chromosome, start position, end position, strand, and fold difference with direction. This file only has DMLs that were at least 50% different between the two treatments (control and elevated pCO2)."
   ]
  },
  {
   "cell_type": "code",
   "execution_count": 17,
   "metadata": {
    "collapsed": false
   },
   "outputs": [
    {
     "name": "stdout",
     "output_type": "stream",
     "text": [
      "NC_035780.1\t265027\t265029\t-\t63\r\n",
      "NC_035780.1\t346071\t346073\t-\t54\r\n",
      "NC_035780.1\t549842\t549844\t+\t-51\r\n",
      "NC_035780.1\t571093\t571095\t-\t53\r\n",
      "NC_035780.1\t571138\t571140\t+\t58\r\n",
      "NC_035780.1\t620088\t620090\t+\t-52\r\n",
      "NC_035780.1\t635912\t635914\t-\t-51\r\n",
      "NC_035780.1\t990995\t990997\t-\t-50\r\n",
      "NC_035780.1\t993014\t993016\t+\t-59\r\n",
      "NC_035780.1\t1887091\t1887093\t+\t53\r\n"
     ]
    }
   ],
   "source": [
    "!head ../2018-05-29-MethylKit-Full-Samples/2018-05-30-DML-Locations.bed"
   ]
  },
  {
   "cell_type": "code",
   "execution_count": 7,
   "metadata": {
    "collapsed": false
   },
   "outputs": [
    {
     "name": "stdout",
     "output_type": "stream",
     "text": [
      "    1470 ../2018-05-29-MethylKit-Full-Samples/2018-05-30-DML-Locations.bed\r\n"
     ]
    }
   ],
   "source": [
    "!wc -l ../2018-05-29-MethylKit-Full-Samples/2018-05-30-DML-Locations.bed"
   ]
  },
  {
   "cell_type": "markdown",
   "metadata": {},
   "source": [
    "I will be using the following Genome Feature Tracks:\n",
    "\n",
    "1. Exon: Coding regions\n",
    "2. Intron: Regions that are removed\n",
    "3. mRNA: Code for proteins! The mRNA track includes both introns and exons.\n",
    "4. CG motifs: Regions with CGs where methylation can occur\n",
    "\n",
    "The links to these feature tracks can be found on the [Roberts Lab Genomic Resources wiki page](https://github.com/RobertsLab/resources/wiki/Genomic-Resources)."
   ]
  },
  {
   "cell_type": "code",
   "execution_count": 19,
   "metadata": {
    "collapsed": false
   },
   "outputs": [
    {
     "name": "stdout",
     "output_type": "stream",
     "text": [
      "  % Total    % Received % Xferd  Average Speed   Time    Time     Time  Current\n",
      "                                 Dload  Upload   Total   Spent    Left  Speed\n",
      "100 20.7M  100 20.7M    0     0  57.9M      0 --:--:-- --:--:-- --:--:-- 58.7M\n"
     ]
    }
   ],
   "source": [
    "!curl http://eagle.fish.washington.edu/Cvirg_tracks/C_virginica-3.0_Gnomon_exon.bed > C_virginica-3.0_Gnomon_exon.bed"
   ]
  },
  {
   "cell_type": "code",
   "execution_count": 22,
   "metadata": {
    "collapsed": false
   },
   "outputs": [
    {
     "name": "stdout",
     "output_type": "stream",
     "text": [
      "NC_035780.1\t13578\t13603\r\n",
      "NC_035780.1\t14237\t14290\r\n",
      "NC_035780.1\t14557\t14594\r\n",
      "NC_035780.1\t28961\t29073\r\n",
      "NC_035780.1\t30524\t31557\r\n",
      "NC_035780.1\t31736\t31887\r\n",
      "NC_035780.1\t31977\t32565\r\n",
      "NC_035780.1\t32959\t33324\r\n",
      "NC_035780.1\t66869\t66897\r\n",
      "NC_035780.1\t64123\t64334\r\n"
     ]
    }
   ],
   "source": [
    "!head C_virginica-3.0_Gnomon_exon.bed"
   ]
  },
  {
   "cell_type": "code",
   "execution_count": 8,
   "metadata": {
    "collapsed": false
   },
   "outputs": [
    {
     "name": "stdout",
     "output_type": "stream",
     "text": [
      "  731279 C_virginica-3.0_Gnomon_exon.bed\r\n"
     ]
    }
   ],
   "source": [
    "!wc -l C_virginica-3.0_Gnomon_exon.bed"
   ]
  },
  {
   "cell_type": "code",
   "execution_count": 20,
   "metadata": {
    "collapsed": false
   },
   "outputs": [
    {
     "name": "stdout",
     "output_type": "stream",
     "text": [
      "  % Total    % Received % Xferd  Average Speed   Time    Time     Time  Current\n",
      "                                 Dload  Upload   Total   Spent    Left  Speed\n",
      "100 9260k  100 9260k    0     0  37.9M      0 --:--:-- --:--:-- --:--:-- 38.4M\n"
     ]
    }
   ],
   "source": [
    "!curl http://eagle.fish.washington.edu/Cvirg_tracks/C_virginica-3.0_intron.bed > C_virginica-3.0_intron.bed"
   ]
  },
  {
   "cell_type": "code",
   "execution_count": 23,
   "metadata": {
    "collapsed": false
   },
   "outputs": [
    {
     "name": "stdout",
     "output_type": "stream",
     "text": [
      "NC_035780.1\t28961\t28961\r\n",
      "NC_035780.1\t29074\t30524\r\n",
      "NC_035780.1\t31558\t31736\r\n",
      "NC_035780.1\t31888\t31977\r\n",
      "NC_035780.1\t32566\t32959\r\n",
      "NC_035780.1\t43110\t43112\r\n",
      "NC_035780.1\t44359\t45913\r\n",
      "NC_035780.1\t46507\t64123\r\n",
      "NC_035780.1\t64335\t66869\r\n",
      "NC_035780.1\t85606\t85606\r\n"
     ]
    }
   ],
   "source": [
    "!head C_virginica-3.0_intron.bed"
   ]
  },
  {
   "cell_type": "code",
   "execution_count": 9,
   "metadata": {
    "collapsed": false
   },
   "outputs": [
    {
     "name": "stdout",
     "output_type": "stream",
     "text": [
      "  319262 C_virginica-3.0_intron.bed\r\n"
     ]
    }
   ],
   "source": [
    "!wc -l C_virginica-3.0_intron.bed"
   ]
  },
  {
   "cell_type": "code",
   "execution_count": 18,
   "metadata": {
    "collapsed": false
   },
   "outputs": [
    {
     "name": "stdout",
     "output_type": "stream",
     "text": [
      "  % Total    % Received % Xferd  Average Speed   Time    Time     Time  Current\n",
      "                                 Dload  Upload   Total   Spent    Left  Speed\n",
      "100 26.4M  100 26.4M    0     0  69.4M      0 --:--:-- --:--:-- --:--:-- 70.3M\n"
     ]
    }
   ],
   "source": [
    "!curl http://eagle.fish.washington.edu/Cvirg_tracks/C_virginica-3.0_Gnomon_mRNA.gff3 > C_virginica-3.0_Gnomon_mRNA.gff3"
   ]
  },
  {
   "cell_type": "code",
   "execution_count": 24,
   "metadata": {
    "collapsed": false
   },
   "outputs": [
    {
     "name": "stdout",
     "output_type": "stream",
     "text": [
      "NC_035780.1\tGnomon\tmRNA\t28961\t33324\t.\t+\t.\tID=rna1;Parent=gene1;Dbxref=GeneID:111126949,Genbank:XM_022471938.1;Name=XM_022471938.1;gbkey=mRNA;gene=LOC111126949;model_evidence=Supporting evidence includes similarity to: 3 Proteins%2C and 100%25 coverage of the annotated genomic feature by RNAseq alignments%2C including 21 samples with support for all annotated introns;product=UNC5C-like protein;transcript_id=XM_022471938.1\r\n",
      "NC_035780.1\tGnomon\tmRNA\t43111\t66897\t.\t-\t.\tID=rna2;Parent=gene2;Dbxref=GeneID:111110729,Genbank:XM_022447324.1;Name=XM_022447324.1;gbkey=mRNA;gene=LOC111110729;model_evidence=Supporting evidence includes similarity to: 1 Protein%2C and 100%25 coverage of the annotated genomic feature by RNAseq alignments;product=FMRFamide receptor-like%2C transcript variant X1;transcript_id=XM_022447324.1\r\n",
      "NC_035780.1\tGnomon\tmRNA\t43111\t46506\t.\t-\t.\tID=rna3;Parent=gene2;Dbxref=GeneID:111110729,Genbank:XM_022447333.1;Name=XM_022447333.1;gbkey=mRNA;gene=LOC111110729;model_evidence=Supporting evidence includes similarity to: 1 Protein%2C and 100%25 coverage of the annotated genomic feature by RNAseq alignments%2C including 14 samples with support for all annotated introns;product=FMRFamide receptor-like%2C transcript variant X2;transcript_id=XM_022447333.1\r\n",
      "NC_035780.1\tGnomon\tmRNA\t85606\t95254\t.\t-\t.\tID=rna4;Parent=gene3;Dbxref=GeneID:111112434,Genbank:XM_022449924.1;Name=XM_022449924.1;gbkey=mRNA;gene=LOC111112434;model_evidence=Supporting evidence includes similarity to: 7 Proteins%2C and 100%25 coverage of the annotated genomic feature by RNAseq alignments%2C including 13 samples with support for all annotated introns;product=homeobox protein Hox-B7-like;transcript_id=XM_022449924.1\r\n",
      "NC_035780.1\tGnomon\tmRNA\t99840\t106460\t.\t+\t.\tID=rna5;Parent=gene4;Dbxref=GeneID:111120752,Genbank:XM_022461698.1;Name=XM_022461698.1;gbkey=mRNA;gene=LOC111120752;model_evidence=Supporting evidence includes similarity to: 10 Proteins%2C and 100%25 coverage of the annotated genomic feature by RNAseq alignments%2C including 27 samples with support for all annotated introns;product=ribulose-phosphate 3-epimerase-like;transcript_id=XM_022461698.1\r\n",
      "NC_035780.1\tGnomon\tmRNA\t108305\t110077\t.\t-\t.\tID=rna6;Parent=gene5;Dbxref=GeneID:111128944,Genbank:XM_022474921.1;Name=XM_022474921.1;gbkey=mRNA;gene=LOC111128944;model_evidence=Supporting evidence includes similarity to: 2 Proteins%2C and 93%25 coverage of the annotated genomic feature by RNAseq alignments;partial=true;product=mucin-19-like;start_range=.,108305;transcript_id=XM_022474921.1\r\n",
      "NC_035780.1\tGnomon\tmRNA\t151859\t157536\t.\t+\t.\tID=rna7;Parent=gene6;Dbxref=GeneID:111128953,Genbank:XM_022474931.1;Name=XM_022474931.1;gbkey=mRNA;gene=LOC111128953;model_evidence=Supporting evidence includes similarity to: 1 Protein;product=GATA zinc finger domain-containing protein 14-like;transcript_id=XM_022474931.1\r\n",
      "NC_035780.1\tGnomon\tmRNA\t163809\t183798\t.\t-\t.\tID=rna8;Parent=gene7;Dbxref=GeneID:111105691,Genbank:XM_022440054.1;Name=XM_022440054.1;gbkey=mRNA;gene=LOC111105691;model_evidence=Supporting evidence includes similarity to: 100%25 coverage of the annotated genomic feature by RNAseq alignments%2C including 9 samples with support for all annotated introns;product=uncharacterized LOC111105691;transcript_id=XM_022440054.1\r\n",
      "NC_035780.1\tGnomon\tmRNA\t164820\t166793\t.\t+\t.\tID=rna9;Parent=gene8;Dbxref=GeneID:111105685,Genbank:XM_022440042.1;Name=XM_022440042.1;gbkey=mRNA;gene=LOC111105685;model_evidence=Supporting evidence includes similarity to: 100%25 coverage of the annotated genomic feature by RNAseq alignments%2C including 4 samples with support for all annotated introns;product=protein ANTAGONIST OF LIKE HETEROCHROMATIN PROTEIN 1-like;transcript_id=XM_022440042.1\r\n",
      "NC_035780.1\tGnomon\tmRNA\t190449\t193594\t.\t-\t.\tID=rna11;Parent=gene10;Dbxref=GeneID:111133554,Genbank:XM_022482070.1;Name=XM_022482070.1;gbkey=mRNA;gene=LOC111133554;model_evidence=Supporting evidence includes similarity to: 100%25 coverage of the annotated genomic feature by RNAseq alignments%2C including 3 samples with support for all annotated introns;product=putative uncharacterized protein DDB_G0277407;transcript_id=XM_022482070.1\r\n"
     ]
    }
   ],
   "source": [
    "!head C_virginica-3.0_Gnomon_mRNA.gff3"
   ]
  },
  {
   "cell_type": "code",
   "execution_count": 10,
   "metadata": {
    "collapsed": false
   },
   "outputs": [
    {
     "name": "stdout",
     "output_type": "stream",
     "text": [
      "   60201 C_virginica-3.0_Gnomon_mRNA.gff3\r\n"
     ]
    }
   ],
   "source": [
    "!wc -l C_virginica-3.0_Gnomon_mRNA.gff3"
   ]
  },
  {
   "cell_type": "code",
   "execution_count": 21,
   "metadata": {
    "collapsed": false
   },
   "outputs": [
    {
     "name": "stdout",
     "output_type": "stream",
     "text": [
      "  % Total    % Received % Xferd  Average Speed   Time    Time     Time  Current\n",
      "                                 Dload  Upload   Total   Spent    Left  Speed\n",
      "100  533M  100  533M    0     0  52.4M      0  0:00:10  0:00:10 --:--:-- 48.8M\n"
     ]
    }
   ],
   "source": [
    "!curl http://eagle.fish.washington.edu/Cvirg_tracks/C_virginica-3.0_CG-motif.bed > C_virginica-3.0_CG-motif.bed"
   ]
  },
  {
   "cell_type": "code",
   "execution_count": 25,
   "metadata": {
    "collapsed": false
   },
   "outputs": [
    {
     "name": "stdout",
     "output_type": "stream",
     "text": [
      "NC_035780.1\t28\t30\tCG_motif\r\n",
      "NC_035780.1\t54\t56\tCG_motif\r\n",
      "NC_035780.1\t75\t77\tCG_motif\r\n",
      "NC_035780.1\t93\t95\tCG_motif\r\n",
      "NC_035780.1\t103\t105\tCG_motif\r\n",
      "NC_035780.1\t116\t118\tCG_motif\r\n",
      "NC_035780.1\t134\t136\tCG_motif\r\n",
      "NC_035780.1\t159\t161\tCG_motif\r\n",
      "NC_035780.1\t209\t211\tCG_motif\r\n",
      "NC_035780.1\t224\t226\tCG_motif\r\n"
     ]
    }
   ],
   "source": [
    "!head C_virginica-3.0_CG-motif.bed"
   ]
  },
  {
   "cell_type": "code",
   "execution_count": 11,
   "metadata": {
    "collapsed": false
   },
   "outputs": [
    {
     "name": "stdout",
     "output_type": "stream",
     "text": [
      " 14458703 C_virginica-3.0_CG-motif.bed\r\n"
     ]
    }
   ],
   "source": [
    "!wc -l C_virginica-3.0_CG-motif.bed"
   ]
  },
  {
   "cell_type": "markdown",
   "metadata": {},
   "source": [
    "### 1b. Use `intersect`"
   ]
  },
  {
   "cell_type": "code",
   "execution_count": 30,
   "metadata": {
    "collapsed": false,
    "scrolled": true
   },
   "outputs": [
    {
     "name": "stdout",
     "output_type": "stream",
     "text": [
      "\r\n",
      "Tool:    bedtools intersect (aka intersectBed)\r\n",
      "Version: v2.26.0\r\n",
      "Summary: Report overlaps between two feature files.\r\n",
      "\r\n",
      "Usage:   bedtools intersect [OPTIONS] -a <bed/gff/vcf/bam> -b <bed/gff/vcf/bam>\r\n",
      "\r\n",
      "\tNote: -b may be followed with multiple databases and/or \r\n",
      "\twildcard (*) character(s). \r\n",
      "Options: \r\n",
      "\t-wa\tWrite the original entry in A for each overlap.\r\n",
      "\r\n",
      "\t-wb\tWrite the original entry in B for each overlap.\r\n",
      "\t\t- Useful for knowing _what_ A overlaps. Restricted by -f and -r.\r\n",
      "\r\n",
      "\t-loj\tPerform a \"left outer join\". That is, for each feature in A\r\n",
      "\t\treport each overlap with B.  If no overlaps are found, \r\n",
      "\t\treport a NULL feature for B.\r\n",
      "\r\n",
      "\t-wo\tWrite the original A and B entries plus the number of base\r\n",
      "\t\tpairs of overlap between the two features.\r\n",
      "\t\t- Overlaps restricted by -f and -r.\r\n",
      "\t\t  Only A features with overlap are reported.\r\n",
      "\r\n",
      "\t-wao\tWrite the original A and B entries plus the number of base\r\n",
      "\t\tpairs of overlap between the two features.\r\n",
      "\t\t- Overlapping features restricted by -f and -r.\r\n",
      "\t\t  However, A features w/o overlap are also reported\r\n",
      "\t\t  with a NULL B feature and overlap = 0.\r\n",
      "\r\n",
      "\t-u\tWrite the original A entry _once_ if _any_ overlaps found in B.\r\n",
      "\t\t- In other words, just report the fact >=1 hit was found.\r\n",
      "\t\t- Overlaps restricted by -f and -r.\r\n",
      "\r\n",
      "\t-c\tFor each entry in A, report the number of overlaps with B.\r\n",
      "\t\t- Reports 0 for A entries that have no overlap with B.\r\n",
      "\t\t- Overlaps restricted by -f and -r.\r\n",
      "\r\n",
      "\t-v\tOnly report those entries in A that have _no overlaps_ with B.\r\n",
      "\t\t- Similar to \"grep -v\" (an homage).\r\n",
      "\r\n",
      "\t-ubam\tWrite uncompressed BAM output. Default writes compressed BAM.\r\n",
      "\r\n",
      "\t-s\tRequire same strandedness.  That is, only report hits in B\r\n",
      "\t\tthat overlap A on the _same_ strand.\r\n",
      "\t\t- By default, overlaps are reported without respect to strand.\r\n",
      "\r\n",
      "\t-S\tRequire different strandedness.  That is, only report hits in B\r\n",
      "\t\tthat overlap A on the _opposite_ strand.\r\n",
      "\t\t- By default, overlaps are reported without respect to strand.\r\n",
      "\r\n",
      "\t-f\tMinimum overlap required as a fraction of A.\r\n",
      "\t\t- Default is 1E-9 (i.e., 1bp).\r\n",
      "\t\t- FLOAT (e.g. 0.50)\r\n",
      "\r\n",
      "\t-F\tMinimum overlap required as a fraction of B.\r\n",
      "\t\t- Default is 1E-9 (i.e., 1bp).\r\n",
      "\t\t- FLOAT (e.g. 0.50)\r\n",
      "\r\n",
      "\t-r\tRequire that the fraction overlap be reciprocal for A AND B.\r\n",
      "\t\t- In other words, if -f is 0.90 and -r is used, this requires\r\n",
      "\t\t  that B overlap 90% of A and A _also_ overlaps 90% of B.\r\n",
      "\r\n",
      "\t-e\tRequire that the minimum fraction be satisfied for A OR B.\r\n",
      "\t\t- In other words, if -e is used with -f 0.90 and -F 0.10 this requires\r\n",
      "\t\t  that either 90% of A is covered OR 10% of  B is covered.\r\n",
      "\t\t  Without -e, both fractions would have to be satisfied.\r\n",
      "\r\n",
      "\t-split\tTreat \"split\" BAM or BED12 entries as distinct BED intervals.\r\n",
      "\r\n",
      "\t-g\tProvide a genome file to enforce consistent chromosome sort order\r\n",
      "\t\tacross input files. Only applies when used with -sorted option.\r\n",
      "\r\n",
      "\t-nonamecheck\tFor sorted data, don't throw an error if the file has different naming conventions\r\n",
      "\t\t\tfor the same chromosome. ex. \"chr1\" vs \"chr01\".\r\n",
      "\r\n",
      "\t-sorted\tUse the \"chromsweep\" algorithm for sorted (-k1,1 -k2,2n) input.\r\n",
      "\r\n",
      "\t-names\tWhen using multiple databases, provide an alias for each that\r\n",
      "\t\twill appear instead of a fileId when also printing the DB record.\r\n",
      "\r\n",
      "\t-filenames\tWhen using multiple databases, show each complete filename\r\n",
      "\t\t\tinstead of a fileId when also printing the DB record.\r\n",
      "\r\n",
      "\t-sortout\tWhen using multiple databases, sort the output DB hits\r\n",
      "\t\t\tfor each record.\r\n",
      "\r\n",
      "\t-bed\tIf using BAM input, write output as BED.\r\n",
      "\r\n",
      "\t-header\tPrint the header from the A file prior to results.\r\n",
      "\r\n",
      "\t-nobuf\tDisable buffered output. Using this option will cause each line\r\n",
      "\t\tof output to be printed as it is generated, rather than saved\r\n",
      "\t\tin a buffer. This will make printing large output files \r\n",
      "\t\tnoticeably slower, but can be useful in conjunction with\r\n",
      "\t\tother software tools and scripts that need to process one\r\n",
      "\t\tline of bedtools output at a time.\r\n",
      "\r\n",
      "\t-iobuf\tSpecify amount of memory to use for input buffer.\r\n",
      "\t\tTakes an integer argument. Optional suffixes K/M/G supported.\r\n",
      "\t\tNote: currently has no effect with compressed files.\r\n",
      "\r\n",
      "Notes: \r\n",
      "\t(1) When a BAM file is used for the A file, the alignment is retained if overlaps exist,\r\n",
      "\tand exlcuded if an overlap cannot be found.  If multiple overlaps exist, they are not\r\n",
      "\treported, as we are only testing for one or more overlaps.\r\n",
      "\r\n"
     ]
    }
   ],
   "source": [
    "! /Users/Shared/bioinformatics/bedtools2/bin/intersectBed -h"
   ]
  },
  {
   "cell_type": "markdown",
   "metadata": {},
   "source": [
    "#### Exons"
   ]
  },
  {
   "cell_type": "markdown",
   "metadata": {},
   "source": [
    "In [Steven's notebook](https://github.com/che625/olson-ms-nb/blob/master/.ipynb_checkpoints/BiGo_dev-checkpoint.ipynb), I noticed he said that there are some exon regions that do not code for any mRNA! The exon and mRNA regions need to be merged. I'm not sure how to do that, so I'll do what I can and then post an issue."
   ]
  },
  {
   "cell_type": "code",
   "execution_count": 34,
   "metadata": {
    "collapsed": false
   },
   "outputs": [
    {
     "name": "stdout",
     "output_type": "stream",
     "text": [
      "     971\n",
      "overlaps with exons\n"
     ]
    }
   ],
   "source": [
    "! /Users/Shared/bioinformatics/bedtools2/bin/intersectBed \\\n",
    "-u \\\n",
    "-a ../2018-05-29-MethylKit-Full-Samples/2018-05-30-DML-Locations.bed \\\n",
    "-b C_virginica-3.0_Gnomon_exon.bed \\\n",
    "| wc -l\n",
    "!echo \"overlaps with exons\""
   ]
  },
  {
   "cell_type": "code",
   "execution_count": 36,
   "metadata": {
    "collapsed": false
   },
   "outputs": [],
   "source": [
    "! /Users/Shared/bioinformatics/bedtools2/bin/intersectBed \\\n",
    "-wb \\\n",
    "-a ../2018-05-29-MethylKit-Full-Samples/2018-05-30-DML-Locations.bed \\\n",
    "-b C_virginica-3.0_Gnomon_exon.bed \\\n",
    "> 2018-06-11-DML-Exon.txt"
   ]
  },
  {
   "cell_type": "code",
   "execution_count": 37,
   "metadata": {
    "collapsed": false
   },
   "outputs": [
    {
     "name": "stdout",
     "output_type": "stream",
     "text": [
      "NC_035780.1\t265027\t265029\t-\t63\tNC_035780.1\t263244\t265531\r\n",
      "NC_035780.1\t265027\t265029\t-\t63\tNC_035780.1\t263245\t265531\r\n",
      "NC_035780.1\t346071\t346073\t-\t54\tNC_035780.1\t345983\t346125\r\n",
      "NC_035780.1\t549842\t549844\t+\t-51\tNC_035780.1\t549831\t549992\r\n",
      "NC_035780.1\t571093\t571095\t-\t53\tNC_035780.1\t570942\t571194\r\n",
      "NC_035780.1\t571138\t571140\t+\t58\tNC_035780.1\t570942\t571194\r\n",
      "NC_035780.1\t620088\t620090\t+\t-52\tNC_035780.1\t619970\t620155\r\n",
      "NC_035780.1\t990995\t990997\t-\t-50\tNC_035780.1\t990854\t991062\r\n",
      "NC_035780.1\t993014\t993016\t+\t-59\tNC_035780.1\t992913\t993055\r\n",
      "NC_035780.1\t1887091\t1887093\t+\t53\tNC_035780.1\t1887063\t1887167\r\n"
     ]
    }
   ],
   "source": [
    "!head 2018-06-11-DML-Exon.txt"
   ]
  },
  {
   "cell_type": "markdown",
   "metadata": {},
   "source": [
    "#### Introns"
   ]
  },
  {
   "cell_type": "code",
   "execution_count": 38,
   "metadata": {
    "collapsed": false,
    "scrolled": true
   },
   "outputs": [
    {
     "name": "stdout",
     "output_type": "stream",
     "text": [
      "     409\n",
      "overlaps with introns\n"
     ]
    }
   ],
   "source": [
    "! /Users/Shared/bioinformatics/bedtools2/bin/intersectBed \\\n",
    "-u \\\n",
    "-a ../2018-05-29-MethylKit-Full-Samples/2018-05-30-DML-Locations.bed \\\n",
    "-b C_virginica-3.0_intron.bed \\\n",
    "| wc -l\n",
    "!echo \"overlaps with introns\""
   ]
  },
  {
   "cell_type": "code",
   "execution_count": 40,
   "metadata": {
    "collapsed": true
   },
   "outputs": [],
   "source": [
    "! /Users/Shared/bioinformatics/bedtools2/bin/intersectBed \\\n",
    "-wb \\\n",
    "-a ../2018-05-29-MethylKit-Full-Samples/2018-05-30-DML-Locations.bed \\\n",
    "-b C_virginica-3.0_intron.bed \\\n",
    "> 2018-06-11-DML-Intron.txt"
   ]
  },
  {
   "cell_type": "code",
   "execution_count": 41,
   "metadata": {
    "collapsed": false
   },
   "outputs": [
    {
     "name": "stdout",
     "output_type": "stream",
     "text": [
      "NC_035780.1\t635912\t635914\t-\t-51\tNC_035780.1\t635836\t636202\r\n",
      "NC_035780.1\t2584492\t2584494\t+\t57\tNC_035780.1\t2584154\t2584505\r\n",
      "NC_035780.1\t2589699\t2589701\t+\t-50\tNC_035780.1\t2589404\t2589716\r\n",
      "NC_035780.1\t2689284\t2689286\t-\t54\tNC_035780.1\t2679229\t2698072\r\n",
      "NC_035780.1\t2689876\t2689878\t+\t-51\tNC_035780.1\t2679229\t2698072\r\n",
      "NC_035780.1\t4288213\t4288215\t+\t-59\tNC_035780.1\t4288129\t4288231\r\n",
      "NC_035780.1\t5803423\t5803425\t+\t-56\tNC_035780.1\t5802914\t5804722\r\n",
      "NC_035780.1\t7404772\t7404774\t+\t-68\tNC_035780.1\t7403933\t7405016\r\n",
      "NC_035780.1\t8833124\t8833126\t+\t69\tNC_035780.1\t8832172\t8833700\r\n",
      "NC_035780.1\t15513038\t15513040\t+\t-62\tNC_035780.1\t15512246\t15513167\r\n"
     ]
    }
   ],
   "source": [
    "!head 2018-06-11-DML-Intron.txt"
   ]
  },
  {
   "cell_type": "markdown",
   "metadata": {},
   "source": [
    "#### mRNA"
   ]
  },
  {
   "cell_type": "code",
   "execution_count": 42,
   "metadata": {
    "collapsed": false
   },
   "outputs": [
    {
     "name": "stdout",
     "output_type": "stream",
     "text": [
      "    1353\n",
      "overlaps with mRNA\n"
     ]
    }
   ],
   "source": [
    "! /Users/Shared/bioinformatics/bedtools2/bin/intersectBed \\\n",
    "-u \\\n",
    "-a ../2018-05-29-MethylKit-Full-Samples/2018-05-30-DML-Locations.bed \\\n",
    "-b C_virginica-3.0_Gnomon_mRNA.gff3 \\\n",
    "| wc -l\n",
    "!echo \"overlaps with mRNA\""
   ]
  },
  {
   "cell_type": "code",
   "execution_count": 43,
   "metadata": {
    "collapsed": true
   },
   "outputs": [],
   "source": [
    "! /Users/Shared/bioinformatics/bedtools2/bin/intersectBed \\\n",
    "-wb \\\n",
    "-a ../2018-05-29-MethylKit-Full-Samples/2018-05-30-DML-Locations.bed \\\n",
    "-b C_virginica-3.0_Gnomon_mRNA.gff3 \\\n",
    "> 2018-06-11-DML-mRNA.txt"
   ]
  },
  {
   "cell_type": "code",
   "execution_count": 44,
   "metadata": {
    "collapsed": false
   },
   "outputs": [
    {
     "name": "stdout",
     "output_type": "stream",
     "text": [
      "NC_035780.1\t265027\t265029\t-\t63\tNC_035780.1\tGnomon\tmRNA\t263244\t272826\t.\t-\t.\tID=rna22;Parent=gene17;Dbxref=GeneID:111124802,Genbank:XM_022468004.1;Name=XM_022468004.1;gbkey=mRNA;gene=LOC111124802;model_evidence=Supporting evidence includes similarity to: 100%25 coverage of the annotated genomic feature by RNAseq alignments%2C including 18 samples with support for all annotated introns;product=uncharacterized LOC111124802%2C transcript variant X2;transcript_id=XM_022468004.1\r\n",
      "NC_035780.1\t265027\t265029\t-\t63\tNC_035780.1\tGnomon\tmRNA\t263245\t272839\t.\t-\t.\tID=rna23;Parent=gene17;Dbxref=GeneID:111124802,Genbank:XM_022467995.1;Name=XM_022467995.1;gbkey=mRNA;gene=LOC111124802;model_evidence=Supporting evidence includes similarity to: 100%25 coverage of the annotated genomic feature by RNAseq alignments%2C including 22 samples with support for all annotated introns;product=uncharacterized LOC111124802%2C transcript variant X1;transcript_id=XM_022467995.1\r\n",
      "NC_035780.1\t265027\t265029\t-\t63\tNC_035780.1\tGnomon\tmRNA\t258108\t272839\t.\t-\t.\tID=rna20;Parent=gene17;Dbxref=GeneID:111124802,Genbank:XM_022468012.1;Name=XM_022468012.1;gbkey=mRNA;gene=LOC111124802;model_evidence=Supporting evidence includes similarity to: 100%25 coverage of the annotated genomic feature by RNAseq alignments%2C including 24 samples with support for all annotated introns;product=uncharacterized LOC111124802%2C transcript variant X3;transcript_id=XM_022468012.1\r\n",
      "NC_035780.1\t265027\t265029\t-\t63\tNC_035780.1\tGnomon\tmRNA\t261478\t272839\t.\t-\t.\tID=rna21;Parent=gene17;Dbxref=GeneID:111124802,Genbank:XM_022468021.1;Name=XM_022468021.1;gbkey=mRNA;gene=LOC111124802;model_evidence=Supporting evidence includes similarity to: 100%25 coverage of the annotated genomic feature by RNAseq alignments%2C including 24 samples with support for all annotated introns;product=uncharacterized LOC111124802%2C transcript variant X4;transcript_id=XM_022468021.1\r\n",
      "NC_035780.1\t346071\t346073\t-\t54\tNC_035780.1\tGnomon\tmRNA\t341638\t349379\t.\t-\t.\tID=rna30;Parent=gene22;Dbxref=GeneID:111113503,Genbank:XM_022451800.1;Name=XM_022451800.1;gbkey=mRNA;gene=LOC111113503;model_evidence=Supporting evidence includes similarity to: 4 Proteins%2C and 100%25 coverage of the annotated genomic feature by RNAseq alignments%2C including 2 samples with support for all annotated introns;product=F-box only protein 47-like;transcript_id=XM_022451800.1\r\n",
      "NC_035780.1\t549842\t549844\t+\t-51\tNC_035780.1\tGnomon\tmRNA\t544088\t573497\t.\t+\t.\tID=rna48;Parent=gene35;Dbxref=GeneID:111114201,Genbank:XM_022452489.1;Name=XM_022452489.1;Note=The sequence of the model RefSeq transcript was modified relative to this genomic sequence to represent the inferred CDS: inserted 2 bases in 2 codons;exception=unclassified transcription discrepancy;gbkey=mRNA;gene=LOC111114201;model_evidence=Supporting evidence includes similarity to: 4 Proteins%2C and 99%25 coverage of the annotated genomic feature by RNAseq alignments%2C including 9 samples with support for all annotated introns;product=vacuolar protein sorting-associated protein 13B-like;transcript_id=XM_022452489.1\r\n",
      "NC_035780.1\t571093\t571095\t-\t53\tNC_035780.1\tGnomon\tmRNA\t544088\t573497\t.\t+\t.\tID=rna48;Parent=gene35;Dbxref=GeneID:111114201,Genbank:XM_022452489.1;Name=XM_022452489.1;Note=The sequence of the model RefSeq transcript was modified relative to this genomic sequence to represent the inferred CDS: inserted 2 bases in 2 codons;exception=unclassified transcription discrepancy;gbkey=mRNA;gene=LOC111114201;model_evidence=Supporting evidence includes similarity to: 4 Proteins%2C and 99%25 coverage of the annotated genomic feature by RNAseq alignments%2C including 9 samples with support for all annotated introns;product=vacuolar protein sorting-associated protein 13B-like;transcript_id=XM_022452489.1\r\n",
      "NC_035780.1\t571138\t571140\t+\t58\tNC_035780.1\tGnomon\tmRNA\t544088\t573497\t.\t+\t.\tID=rna48;Parent=gene35;Dbxref=GeneID:111114201,Genbank:XM_022452489.1;Name=XM_022452489.1;Note=The sequence of the model RefSeq transcript was modified relative to this genomic sequence to represent the inferred CDS: inserted 2 bases in 2 codons;exception=unclassified transcription discrepancy;gbkey=mRNA;gene=LOC111114201;model_evidence=Supporting evidence includes similarity to: 4 Proteins%2C and 99%25 coverage of the annotated genomic feature by RNAseq alignments%2C including 9 samples with support for all annotated introns;product=vacuolar protein sorting-associated protein 13B-like;transcript_id=XM_022452489.1\r\n",
      "NC_035780.1\t620088\t620090\t+\t-52\tNC_035780.1\tGnomon\tmRNA\t604924\t622983\t.\t+\t.\tID=rna51;Parent=gene37;Dbxref=GeneID:111138315,Genbank:XM_022490210.1;Name=XM_022490210.1;gbkey=mRNA;gene=LOC111138315;model_evidence=Supporting evidence includes similarity to: 100%25 coverage of the annotated genomic feature by RNAseq alignments%2C including 5 samples with support for all annotated introns;product=R3H domain-containing protein 1-like;transcript_id=XM_022490210.1\r\n",
      "NC_035780.1\t635912\t635914\t-\t-51\tNC_035780.1\tGnomon\tmRNA\t625970\t637939\t.\t-\t.\tID=rna66;Parent=gene38;Dbxref=GeneID:111138321,Genbank:XM_022490351.1;Name=XM_022490351.1;gbkey=mRNA;gene=LOC111138321;model_evidence=Supporting evidence includes similarity to: 12 Proteins%2C and 100%25 coverage of the annotated genomic feature by RNAseq alignments%2C including 6 samples with support for all annotated introns;product=dual specificity tyrosine-phosphorylation-regulated kinase 4-like%2C transcript variant X17;transcript_id=XM_022490351.1\r\n"
     ]
    }
   ],
   "source": [
    "!head 2018-06-11-DML-mRNA.txt"
   ]
  },
  {
   "cell_type": "markdown",
   "metadata": {},
   "source": [
    "#### CG motifs"
   ]
  },
  {
   "cell_type": "code",
   "execution_count": 45,
   "metadata": {
    "collapsed": false
   },
   "outputs": [
    {
     "name": "stdout",
     "output_type": "stream",
     "text": [
      "    1470\n",
      "overlaps with CGs\n"
     ]
    }
   ],
   "source": [
    "! /Users/Shared/bioinformatics/bedtools2/bin/intersectBed \\\n",
    "-u \\\n",
    "-a ../2018-05-29-MethylKit-Full-Samples/2018-05-30-DML-Locations.bed \\\n",
    "-b C_virginica-3.0_CG-motif.bed \\\n",
    "| wc -l\n",
    "!echo \"overlaps with CGs\""
   ]
  },
  {
   "cell_type": "markdown",
   "metadata": {},
   "source": [
    "Proportion exon overlap with CG motifs:"
   ]
  },
  {
   "cell_type": "code",
   "execution_count": 19,
   "metadata": {
    "collapsed": false
   },
   "outputs": [
    {
     "data": {
      "text/plain": [
       "0.00010166887029908561"
      ]
     },
     "execution_count": 19,
     "metadata": {},
     "output_type": "execute_result"
    }
   ],
   "source": [
    "1470/14458703"
   ]
  },
  {
   "cell_type": "code",
   "execution_count": 46,
   "metadata": {
    "collapsed": true
   },
   "outputs": [],
   "source": [
    "! /Users/Shared/bioinformatics/bedtools2/bin/intersectBed \\\n",
    "-wb \\\n",
    "-a ../2018-05-29-MethylKit-Full-Samples/2018-05-30-DML-Locations.bed \\\n",
    "-b C_virginica-3.0_CG-motif.bed \\\n",
    "> 2018-06-11-DML-CGmotif.txt"
   ]
  },
  {
   "cell_type": "code",
   "execution_count": 47,
   "metadata": {
    "collapsed": false
   },
   "outputs": [
    {
     "name": "stdout",
     "output_type": "stream",
     "text": [
      "NC_035780.1\t265027\t265029\t-\t63\tNC_035780.1\t265027\t265029\tCG_motif\r\n",
      "NC_035780.1\t346071\t346073\t-\t54\tNC_035780.1\t346071\t346073\tCG_motif\r\n",
      "NC_035780.1\t549842\t549844\t+\t-51\tNC_035780.1\t549842\t549844\tCG_motif\r\n",
      "NC_035780.1\t571093\t571095\t-\t53\tNC_035780.1\t571093\t571095\tCG_motif\r\n",
      "NC_035780.1\t571138\t571140\t+\t58\tNC_035780.1\t571138\t571140\tCG_motif\r\n",
      "NC_035780.1\t620088\t620090\t+\t-52\tNC_035780.1\t620088\t620090\tCG_motif\r\n",
      "NC_035780.1\t635912\t635914\t-\t-51\tNC_035780.1\t635912\t635914\tCG_motif\r\n",
      "NC_035780.1\t990995\t990997\t-\t-50\tNC_035780.1\t990995\t990997\tCG_motif\r\n",
      "NC_035780.1\t993014\t993016\t+\t-59\tNC_035780.1\t993014\t993016\tCG_motif\r\n",
      "NC_035780.1\t1887091\t1887093\t+\t53\tNC_035780.1\t1887091\t1887093\tCG_motif\r\n"
     ]
    }
   ],
   "source": [
    "!head 2018-06-11-DML-CGmotif.txt"
   ]
  },
  {
   "cell_type": "markdown",
   "metadata": {},
   "source": [
    "It's also useful to understand where the CG regions are in relation to exons, introns, and mRNA!"
   ]
  },
  {
   "cell_type": "code",
   "execution_count": 48,
   "metadata": {
    "collapsed": false
   },
   "outputs": [
    {
     "name": "stdout",
     "output_type": "stream",
     "text": [
      "  636270\n",
      "overlaps with exons\n"
     ]
    }
   ],
   "source": [
    "! /Users/Shared/bioinformatics/bedtools2/bin/intersectBed \\\n",
    "-u \\\n",
    "-a C_virginica-3.0_Gnomon_exon.bed \\\n",
    "-b C_virginica-3.0_CG-motif.bed \\\n",
    "| wc -l\n",
    "!echo \"overlaps with exons\""
   ]
  },
  {
   "cell_type": "markdown",
   "metadata": {},
   "source": [
    "Proportion exon overlap with CG motifs:"
   ]
  },
  {
   "cell_type": "code",
   "execution_count": 16,
   "metadata": {
    "collapsed": false
   },
   "outputs": [
    {
     "data": {
      "text/plain": [
       "0.04400602184027157"
      ]
     },
     "execution_count": 16,
     "metadata": {},
     "output_type": "execute_result"
    }
   ],
   "source": [
    "636270/14458703"
   ]
  },
  {
   "cell_type": "code",
   "execution_count": 51,
   "metadata": {
    "collapsed": true
   },
   "outputs": [],
   "source": [
    "! /Users/Shared/bioinformatics/bedtools2/bin/intersectBed \\\n",
    "-wb \\\n",
    "-a C_virginica-3.0_Gnomon_exon.bed \\\n",
    "-b C_virginica-3.0_CG-motif.bed \\\n",
    "> 2018-06-11-Exon-CGmotif.txt"
   ]
  },
  {
   "cell_type": "code",
   "execution_count": 52,
   "metadata": {
    "collapsed": false,
    "scrolled": false
   },
   "outputs": [
    {
     "name": "stdout",
     "output_type": "stream",
     "text": [
      "NC_035780.1\t13597\t13599\tNC_035780.1\t13597\t13599\tCG_motif\r\n",
      "NC_035780.1\t28992\t28994\tNC_035780.1\t28992\t28994\tCG_motif\r\n",
      "NC_035780.1\t29001\t29003\tNC_035780.1\t29001\t29003\tCG_motif\r\n",
      "NC_035780.1\t29028\t29030\tNC_035780.1\t29028\t29030\tCG_motif\r\n",
      "NC_035780.1\t30539\t30541\tNC_035780.1\t30539\t30541\tCG_motif\r\n",
      "NC_035780.1\t30574\t30576\tNC_035780.1\t30574\t30576\tCG_motif\r\n",
      "NC_035780.1\t30602\t30604\tNC_035780.1\t30602\t30604\tCG_motif\r\n",
      "NC_035780.1\t30676\t30678\tNC_035780.1\t30676\t30678\tCG_motif\r\n",
      "NC_035780.1\t30695\t30697\tNC_035780.1\t30695\t30697\tCG_motif\r\n",
      "NC_035780.1\t30723\t30725\tNC_035780.1\t30723\t30725\tCG_motif\r\n"
     ]
    }
   ],
   "source": [
    "!head 2018-06-11-Exon-CGmotif.txt"
   ]
  },
  {
   "cell_type": "code",
   "execution_count": 49,
   "metadata": {
    "collapsed": false
   },
   "outputs": [
    {
     "name": "stdout",
     "output_type": "stream",
     "text": [
      "  245500\n",
      "overlaps with introns\n"
     ]
    }
   ],
   "source": [
    "! /Users/Shared/bioinformatics/bedtools2/bin/intersectBed \\\n",
    "-u \\\n",
    "-a C_virginica-3.0_intron.bed \\\n",
    "-b C_virginica-3.0_CG-motif.bed \\\n",
    "| wc -l\n",
    "!echo \"overlaps with introns\""
   ]
  },
  {
   "cell_type": "markdown",
   "metadata": {},
   "source": [
    "Proportion intron overlap with CG motifs:"
   ]
  },
  {
   "cell_type": "code",
   "execution_count": 17,
   "metadata": {
    "collapsed": false
   },
   "outputs": [
    {
     "data": {
      "text/plain": [
       "0.016979392964915317"
      ]
     },
     "execution_count": 17,
     "metadata": {},
     "output_type": "execute_result"
    }
   ],
   "source": [
    "245500/14458703"
   ]
  },
  {
   "cell_type": "code",
   "execution_count": 53,
   "metadata": {
    "collapsed": true
   },
   "outputs": [],
   "source": [
    "! /Users/Shared/bioinformatics/bedtools2/bin/intersectBed \\\n",
    "-wb \\\n",
    "-a C_virginica-3.0_intron.bed \\\n",
    "-b C_virginica-3.0_CG-motif.bed \\\n",
    "> 2018-06-11-Intron-CGmotif.txt"
   ]
  },
  {
   "cell_type": "code",
   "execution_count": 54,
   "metadata": {
    "collapsed": false
   },
   "outputs": [
    {
     "name": "stdout",
     "output_type": "stream",
     "text": [
      "NC_035780.1\t29180\t29182\tNC_035780.1\t29180\t29182\tCG_motif\r\n",
      "NC_035780.1\t29203\t29205\tNC_035780.1\t29203\t29205\tCG_motif\r\n",
      "NC_035780.1\t29221\t29223\tNC_035780.1\t29221\t29223\tCG_motif\r\n",
      "NC_035780.1\t29295\t29297\tNC_035780.1\t29295\t29297\tCG_motif\r\n",
      "NC_035780.1\t29323\t29325\tNC_035780.1\t29323\t29325\tCG_motif\r\n",
      "NC_035780.1\t29326\t29328\tNC_035780.1\t29326\t29328\tCG_motif\r\n",
      "NC_035780.1\t29412\t29414\tNC_035780.1\t29412\t29414\tCG_motif\r\n",
      "NC_035780.1\t29452\t29454\tNC_035780.1\t29452\t29454\tCG_motif\r\n",
      "NC_035780.1\t29672\t29674\tNC_035780.1\t29672\t29674\tCG_motif\r\n",
      "NC_035780.1\t29758\t29760\tNC_035780.1\t29758\t29760\tCG_motif\r\n"
     ]
    }
   ],
   "source": [
    "!head 2018-06-11-Intron-CGmotif.txt"
   ]
  },
  {
   "cell_type": "code",
   "execution_count": 50,
   "metadata": {
    "collapsed": false
   },
   "outputs": [
    {
     "name": "stdout",
     "output_type": "stream",
     "text": [
      "   60195\n",
      "overlaps with mRNA\n"
     ]
    }
   ],
   "source": [
    "! /Users/Shared/bioinformatics/bedtools2/bin/intersectBed \\\n",
    "-u \\\n",
    "-a C_virginica-3.0_Gnomon_mRNA.gff3 \\\n",
    "-b C_virginica-3.0_CG-motif.bed \\\n",
    "| wc -l\n",
    "!echo \"overlaps with mRNA\""
   ]
  },
  {
   "cell_type": "markdown",
   "metadata": {},
   "source": [
    "Proportion mRNA overlap with CG motifs:"
   ]
  },
  {
   "cell_type": "code",
   "execution_count": 18,
   "metadata": {
    "collapsed": false
   },
   "outputs": [
    {
     "data": {
      "text/plain": [
       "0.004163236495002352"
      ]
     },
     "execution_count": 18,
     "metadata": {},
     "output_type": "execute_result"
    }
   ],
   "source": [
    "60195/14458703"
   ]
  },
  {
   "cell_type": "code",
   "execution_count": 55,
   "metadata": {
    "collapsed": true
   },
   "outputs": [],
   "source": [
    "! /Users/Shared/bioinformatics/bedtools2/bin/intersectBed \\\n",
    "-wb \\\n",
    "-a C_virginica-3.0_Gnomon_mRNA.gff3 \\\n",
    "-b C_virginica-3.0_CG-motif.bed \\\n",
    "> 2018-06-11-mRNA-CGmotif.txt"
   ]
  },
  {
   "cell_type": "code",
   "execution_count": 56,
   "metadata": {
    "collapsed": false
   },
   "outputs": [
    {
     "name": "stdout",
     "output_type": "stream",
     "text": [
      "NC_035780.1\tGnomon\tmRNA\t28993\t28994\t.\t+\t.\tID=rna1;Parent=gene1;Dbxref=GeneID:111126949,Genbank:XM_022471938.1;Name=XM_022471938.1;gbkey=mRNA;gene=LOC111126949;model_evidence=Supporting evidence includes similarity to: 3 Proteins%2C and 100%25 coverage of the annotated genomic feature by RNAseq alignments%2C including 21 samples with support for all annotated introns;product=UNC5C-like protein;transcript_id=XM_022471938.1\tNC_035780.1\t28992\t28994\tCG_motif\r\n",
      "NC_035780.1\tGnomon\tmRNA\t29002\t29003\t.\t+\t.\tID=rna1;Parent=gene1;Dbxref=GeneID:111126949,Genbank:XM_022471938.1;Name=XM_022471938.1;gbkey=mRNA;gene=LOC111126949;model_evidence=Supporting evidence includes similarity to: 3 Proteins%2C and 100%25 coverage of the annotated genomic feature by RNAseq alignments%2C including 21 samples with support for all annotated introns;product=UNC5C-like protein;transcript_id=XM_022471938.1\tNC_035780.1\t29001\t29003\tCG_motif\r\n",
      "NC_035780.1\tGnomon\tmRNA\t29029\t29030\t.\t+\t.\tID=rna1;Parent=gene1;Dbxref=GeneID:111126949,Genbank:XM_022471938.1;Name=XM_022471938.1;gbkey=mRNA;gene=LOC111126949;model_evidence=Supporting evidence includes similarity to: 3 Proteins%2C and 100%25 coverage of the annotated genomic feature by RNAseq alignments%2C including 21 samples with support for all annotated introns;product=UNC5C-like protein;transcript_id=XM_022471938.1\tNC_035780.1\t29028\t29030\tCG_motif\r\n",
      "NC_035780.1\tGnomon\tmRNA\t29181\t29182\t.\t+\t.\tID=rna1;Parent=gene1;Dbxref=GeneID:111126949,Genbank:XM_022471938.1;Name=XM_022471938.1;gbkey=mRNA;gene=LOC111126949;model_evidence=Supporting evidence includes similarity to: 3 Proteins%2C and 100%25 coverage of the annotated genomic feature by RNAseq alignments%2C including 21 samples with support for all annotated introns;product=UNC5C-like protein;transcript_id=XM_022471938.1\tNC_035780.1\t29180\t29182\tCG_motif\r\n",
      "NC_035780.1\tGnomon\tmRNA\t29204\t29205\t.\t+\t.\tID=rna1;Parent=gene1;Dbxref=GeneID:111126949,Genbank:XM_022471938.1;Name=XM_022471938.1;gbkey=mRNA;gene=LOC111126949;model_evidence=Supporting evidence includes similarity to: 3 Proteins%2C and 100%25 coverage of the annotated genomic feature by RNAseq alignments%2C including 21 samples with support for all annotated introns;product=UNC5C-like protein;transcript_id=XM_022471938.1\tNC_035780.1\t29203\t29205\tCG_motif\r\n",
      "NC_035780.1\tGnomon\tmRNA\t29222\t29223\t.\t+\t.\tID=rna1;Parent=gene1;Dbxref=GeneID:111126949,Genbank:XM_022471938.1;Name=XM_022471938.1;gbkey=mRNA;gene=LOC111126949;model_evidence=Supporting evidence includes similarity to: 3 Proteins%2C and 100%25 coverage of the annotated genomic feature by RNAseq alignments%2C including 21 samples with support for all annotated introns;product=UNC5C-like protein;transcript_id=XM_022471938.1\tNC_035780.1\t29221\t29223\tCG_motif\r\n",
      "NC_035780.1\tGnomon\tmRNA\t29296\t29297\t.\t+\t.\tID=rna1;Parent=gene1;Dbxref=GeneID:111126949,Genbank:XM_022471938.1;Name=XM_022471938.1;gbkey=mRNA;gene=LOC111126949;model_evidence=Supporting evidence includes similarity to: 3 Proteins%2C and 100%25 coverage of the annotated genomic feature by RNAseq alignments%2C including 21 samples with support for all annotated introns;product=UNC5C-like protein;transcript_id=XM_022471938.1\tNC_035780.1\t29295\t29297\tCG_motif\r\n",
      "NC_035780.1\tGnomon\tmRNA\t29324\t29325\t.\t+\t.\tID=rna1;Parent=gene1;Dbxref=GeneID:111126949,Genbank:XM_022471938.1;Name=XM_022471938.1;gbkey=mRNA;gene=LOC111126949;model_evidence=Supporting evidence includes similarity to: 3 Proteins%2C and 100%25 coverage of the annotated genomic feature by RNAseq alignments%2C including 21 samples with support for all annotated introns;product=UNC5C-like protein;transcript_id=XM_022471938.1\tNC_035780.1\t29323\t29325\tCG_motif\r\n",
      "NC_035780.1\tGnomon\tmRNA\t29327\t29328\t.\t+\t.\tID=rna1;Parent=gene1;Dbxref=GeneID:111126949,Genbank:XM_022471938.1;Name=XM_022471938.1;gbkey=mRNA;gene=LOC111126949;model_evidence=Supporting evidence includes similarity to: 3 Proteins%2C and 100%25 coverage of the annotated genomic feature by RNAseq alignments%2C including 21 samples with support for all annotated introns;product=UNC5C-like protein;transcript_id=XM_022471938.1\tNC_035780.1\t29326\t29328\tCG_motif\r\n",
      "NC_035780.1\tGnomon\tmRNA\t29413\t29414\t.\t+\t.\tID=rna1;Parent=gene1;Dbxref=GeneID:111126949,Genbank:XM_022471938.1;Name=XM_022471938.1;gbkey=mRNA;gene=LOC111126949;model_evidence=Supporting evidence includes similarity to: 3 Proteins%2C and 100%25 coverage of the annotated genomic feature by RNAseq alignments%2C including 21 samples with support for all annotated introns;product=UNC5C-like protein;transcript_id=XM_022471938.1\tNC_035780.1\t29412\t29414\tCG_motif\r\n"
     ]
    }
   ],
   "source": [
    "!head 2018-06-11-mRNA-CGmotif.txt"
   ]
  },
  {
   "cell_type": "markdown",
   "metadata": {},
   "source": [
    "## 2. Calculate Overlap Proportions"
   ]
  },
  {
   "cell_type": "code",
   "execution_count": null,
   "metadata": {
    "collapsed": true
   },
   "outputs": [],
   "source": []
  },
  {
   "cell_type": "code",
   "execution_count": null,
   "metadata": {
    "collapsed": true
   },
   "outputs": [],
   "source": []
  },
  {
   "cell_type": "code",
   "execution_count": null,
   "metadata": {
    "collapsed": true
   },
   "outputs": [],
   "source": []
  },
  {
   "cell_type": "code",
   "execution_count": null,
   "metadata": {
    "collapsed": true
   },
   "outputs": [],
   "source": []
  },
  {
   "cell_type": "code",
   "execution_count": null,
   "metadata": {
    "collapsed": true
   },
   "outputs": [],
   "source": []
  },
  {
   "cell_type": "code",
   "execution_count": null,
   "metadata": {
    "collapsed": true
   },
   "outputs": [],
   "source": []
  },
  {
   "cell_type": "code",
   "execution_count": null,
   "metadata": {
    "collapsed": true
   },
   "outputs": [],
   "source": []
  },
  {
   "cell_type": "code",
   "execution_count": null,
   "metadata": {
    "collapsed": true
   },
   "outputs": [],
   "source": []
  },
  {
   "cell_type": "code",
   "execution_count": null,
   "metadata": {
    "collapsed": true
   },
   "outputs": [],
   "source": []
  },
  {
   "cell_type": "code",
   "execution_count": null,
   "metadata": {
    "collapsed": true
   },
   "outputs": [],
   "source": []
  },
  {
   "cell_type": "code",
   "execution_count": null,
   "metadata": {
    "collapsed": true
   },
   "outputs": [],
   "source": []
  },
  {
   "cell_type": "code",
   "execution_count": null,
   "metadata": {
    "collapsed": true
   },
   "outputs": [],
   "source": []
  },
  {
   "cell_type": "code",
   "execution_count": null,
   "metadata": {
    "collapsed": true
   },
   "outputs": [],
   "source": []
  },
  {
   "cell_type": "code",
   "execution_count": null,
   "metadata": {
    "collapsed": true
   },
   "outputs": [],
   "source": []
  },
  {
   "cell_type": "code",
   "execution_count": null,
   "metadata": {
    "collapsed": true
   },
   "outputs": [],
   "source": []
  },
  {
   "cell_type": "code",
   "execution_count": null,
   "metadata": {
    "collapsed": true
   },
   "outputs": [],
   "source": []
  },
  {
   "cell_type": "code",
   "execution_count": null,
   "metadata": {
    "collapsed": true
   },
   "outputs": [],
   "source": []
  },
  {
   "cell_type": "code",
   "execution_count": null,
   "metadata": {
    "collapsed": true
   },
   "outputs": [],
   "source": []
  },
  {
   "cell_type": "code",
   "execution_count": null,
   "metadata": {
    "collapsed": true
   },
   "outputs": [],
   "source": []
  },
  {
   "cell_type": "markdown",
   "metadata": {
    "collapsed": true
   },
   "source": [
    "## 3. Gene Flanking"
   ]
  },
  {
   "cell_type": "markdown",
   "metadata": {},
   "source": [
    "It's not enough to identify mRNA and DML intersections! I also need to know if DMLs and CG motifs overlap with regions that flank mRNA. These flanking regions could be promoters or transcription factors that could regulate these processes. To do this, I will use `flank` from `bedtools`."
   ]
  },
  {
   "cell_type": "markdown",
   "metadata": {},
   "source": [
    "1. Path to `flankBed`\n",
    "2. -i Path to mRNA GFF file\n",
    "3. -g Path to *C. virginica* \"genome\" file. `flankBed` requires the start and stop position of each genome (see [this issue](https://github.com/RobertsLab/resources/issues/294#issuecomment-397712928)). I created a file like in TextWrangler using [chromosome lengths from NCBI](https://www.ncbi.nlm.nih.gov/genome/gdv/browser/?context=genome&acc=GCF_002022765.2).\n",
    "4. -b 1000: Add 1000 bp flanks to each end of the coding region"
   ]
  },
  {
   "cell_type": "code",
   "execution_count": 5,
   "metadata": {
    "collapsed": true
   },
   "outputs": [],
   "source": [
    "! /Users/Shared/bioinformatics/bedtools2/bin/flankBed \\\n",
    "-i C_virginica-3.0_Gnomon_mRNA.gff3 \\\n",
    "-g 2018-06-15-bedtools-Chromosome-Lengths.txt \\\n",
    "-b 1000 \\\n",
    "> 2018-06-15-mRNA-1000bp-Flanks.bed"
   ]
  },
  {
   "cell_type": "markdown",
   "metadata": {},
   "source": [
    "Now I'll take the BEDfile I made and use it in `intersectBed` to find overlaps with DMLs and CG motifs! \n",
    "\n",
    "1. Path to `intersectBed`\n",
    "2. -wb: Write output according to the second file\n",
    "3. -a: Path to BEDfile created with flanks\n",
    "4. -b: Specify either DML or CG motif file\n",
    "5. \">\" filename: Redirect output to a .txt file"
   ]
  },
  {
   "cell_type": "code",
   "execution_count": 6,
   "metadata": {
    "collapsed": true
   },
   "outputs": [],
   "source": [
    "! /Users/Shared/bioinformatics/bedtools2/bin/intersectBed \\\n",
    "-wb \\\n",
    "-a 2018-06-15-mRNA-1000bp-Flanks.bed \\\n",
    "-b ../2018-05-29-MethylKit-Full-Samples/2018-05-30-DML-Locations.bed \\\n",
    "> 2018-06-19-mRNA-100bp-Flanks-DML.txt"
   ]
  },
  {
   "cell_type": "code",
   "execution_count": 8,
   "metadata": {
    "collapsed": true
   },
   "outputs": [],
   "source": [
    "! /Users/Shared/bioinformatics/bedtools2/bin/intersectBed \\\n",
    "-wb \\\n",
    "-a 2018-06-15-mRNA-1000bp-Flanks.bed \\\n",
    "-b C_virginica-3.0_CG-motif.bed \\\n",
    "> 2018-06-19-mRNA-100bp-Flanks-CGmotif.txt"
   ]
  },
  {
   "cell_type": "code",
   "execution_count": null,
   "metadata": {
    "collapsed": true
   },
   "outputs": [],
   "source": []
  }
 ],
 "metadata": {
  "anaconda-cloud": {},
  "kernelspec": {
   "display_name": "Python [default]",
   "language": "python",
   "name": "python3"
  },
  "language_info": {
   "codemirror_mode": {
    "name": "ipython",
    "version": 3
   },
   "file_extension": ".py",
   "mimetype": "text/x-python",
   "name": "python",
   "nbconvert_exporter": "python",
   "pygments_lexer": "ipython3",
   "version": "3.5.2"
  }
 },
 "nbformat": 4,
 "nbformat_minor": 1
}
