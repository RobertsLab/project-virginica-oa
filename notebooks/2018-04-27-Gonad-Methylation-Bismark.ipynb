{
 "cells": [
  {
   "cell_type": "markdown",
   "metadata": {},
   "source": [
    "# Bismark\n",
    "\n",
    "In this notebook I'll complete the five steps of Bismark on a subset of my data. The steps from the [user guide](https://rawgit.com/FelixKrueger/Bismark/master/Docs/Bismark_User_Guide.html#i-bismark-genome-preparation) are as follows:\n",
    "\n",
    "1. Genome Preparation\n",
    "2. Alignment\n",
    "3. Methlation Extractor\n",
    "4. HTML Processing Report\n",
    "5. Summary Report"
   ]
  },
  {
   "cell_type": "markdown",
   "metadata": {},
   "source": [
    "## 1. Genome Preparation"
   ]
  },
  {
   "cell_type": "markdown",
   "metadata": {},
   "source": [
    "### 1a. Set working directory"
   ]
  },
  {
   "cell_type": "code",
   "execution_count": 1,
   "metadata": {
    "collapsed": false
   },
   "outputs": [
    {
     "data": {
      "text/plain": [
       "'/Users/yaamini/Documents/project-virginica-oa/notebooks'"
      ]
     },
     "execution_count": 1,
     "metadata": {},
     "output_type": "execute_result"
    }
   ],
   "source": [
    "pwd"
   ]
  },
  {
   "cell_type": "code",
   "execution_count": 2,
   "metadata": {
    "collapsed": false
   },
   "outputs": [
    {
     "name": "stdout",
     "output_type": "stream",
     "text": [
      "/Users/yaamini/Documents/project-virginica-oa/analyses\n"
     ]
    }
   ],
   "source": [
    "cd ../analyses/"
   ]
  },
  {
   "cell_type": "code",
   "execution_count": 3,
   "metadata": {
    "collapsed": true
   },
   "outputs": [],
   "source": [
    "mkdir 2018-04-27-Bismark"
   ]
  },
  {
   "cell_type": "code",
   "execution_count": 4,
   "metadata": {
    "collapsed": false
   },
   "outputs": [
    {
     "name": "stdout",
     "output_type": "stream",
     "text": [
      "\u001b[34m2018-01-23-MBDSeq-Labwork\u001b[m\u001b[m/           \u001b[34m2018-04-27-Bismark\u001b[m\u001b[m/\r\n",
      "\u001b[34m2018-04-26-Gonad-Methylation-FastQC\u001b[m\u001b[m/ README.md\r\n"
     ]
    }
   ],
   "source": [
    "ls"
   ]
  },
  {
   "cell_type": "code",
   "execution_count": 5,
   "metadata": {
    "collapsed": false
   },
   "outputs": [
    {
     "name": "stdout",
     "output_type": "stream",
     "text": [
      "/Users/yaamini/Documents/project-virginica-oa/analyses/2018-04-27-Bismark\n"
     ]
    }
   ],
   "source": [
    "cd 2018-04-27-Bismark/"
   ]
  },
  {
   "cell_type": "markdown",
   "metadata": {},
   "source": [
    "### 1b. Download *C. virginica* genome"
   ]
  },
  {
   "cell_type": "code",
   "execution_count": 16,
   "metadata": {
    "collapsed": true
   },
   "outputs": [],
   "source": [
    "mkdir 2018-04-27-Bismark-Inputs"
   ]
  },
  {
   "cell_type": "code",
   "execution_count": 17,
   "metadata": {
    "collapsed": false
   },
   "outputs": [
    {
     "name": "stdout",
     "output_type": "stream",
     "text": [
      "\u001b[34m2018-04-27-Bismark-Inputs\u001b[m\u001b[m/\r\n"
     ]
    }
   ],
   "source": [
    "ls"
   ]
  },
  {
   "cell_type": "code",
   "execution_count": 18,
   "metadata": {
    "collapsed": false,
    "scrolled": true
   },
   "outputs": [
    {
     "name": "stdout",
     "output_type": "stream",
     "text": [
      "  % Total    % Received % Xferd  Average Speed   Time    Time     Time  Current\n",
      "                                 Dload  Upload   Total   Spent    Left  Speed\n",
      "100  202M  100  202M    0     0  1082k      0  0:03:11  0:03:11 --:--:-- 1110k\n"
     ]
    }
   ],
   "source": [
    "!curl ftp://ftp.ncbi.nlm.nih.gov/genomes/all/GCF/002/022/765/GCF_002022765.2_C_virginica-3.0/GCF_002022765.2_C_virginica-3.0_genomic.fna.gz \\\n",
    "    > 2018-04-27-Bismark-Inputs/C_virginica-3.0_genomic.fna.gz"
   ]
  },
  {
   "cell_type": "markdown",
   "metadata": {},
   "source": [
    "I unzipped the file in Finder because I couldn't get gunzip to work. Will need to sort that out later."
   ]
  },
  {
   "cell_type": "code",
   "execution_count": 19,
   "metadata": {
    "collapsed": false
   },
   "outputs": [
    {
     "name": "stdout",
     "output_type": "stream",
     "text": [
      "C_virginica-3.0_genomic.fna     C_virginica-3.0_genomic.fna.gz\r\n"
     ]
    }
   ],
   "source": [
    "ls 2018-04-27-Bismark-Inputs/"
   ]
  },
  {
   "cell_type": "markdown",
   "metadata": {},
   "source": [
    "### Run `bismark_genome_preparation`"
   ]
  },
  {
   "cell_type": "code",
   "execution_count": 21,
   "metadata": {
    "collapsed": false
   },
   "outputs": [
    {
     "name": "stdout",
     "output_type": "stream",
     "text": [
      "\r\n",
      "\r\n",
      "DESCRIPTION\r\n",
      "\r\n",
      "This script is supposed to convert a specified reference genome into two different bisulfite\r\n",
      "converted versions and index them for alignments with Bowtie 2 (default), or Bowtie 1. The first\r\n",
      "bisulfite genome will have all Cs converted to Ts (C->T), and the other one will have all Gs\r\n",
      "converted to As (G->A). Both bisulfite genomes will be stored in subfolders within the reference\r\n",
      "genome folder. Once the bisulfite conversion has been completed the program will fork and launch\r\n",
      "two simultaneous instances of the Bowtie 1 or 2 indexer (bowtie-build or bowtie2-build). Be aware\r\n",
      "that the indexing process can take up to several hours; this will mainly depend on genome size\r\n",
      "and system resources.\r\n",
      "\r\n",
      "\r\n",
      "\r\n",
      "The following is a brief description of command line options and arguments to control the\r\n",
      "Bismark Genome Preparation:\r\n",
      "\r\n",
      "\r\n",
      "USAGE: bismark_genome_preparation [options] <arguments>\r\n",
      "\r\n",
      "\r\n",
      "OPTIONS:\r\n",
      "\r\n",
      "--help/--man             Displays this help filea and exits.\r\n",
      "\r\n",
      "--version                Displays version information and exits.\r\n",
      "\r\n",
      "--verbose                Print verbose output for more details or debugging.\r\n",
      "\r\n",
      "--path_to_bowtie </../>  The full path to the Bowtie 1 or Bowtie 2 installation on your system\r\n",
      "                         (depending on which aligner/indexer you intend to use). Unless this path\r\n",
      "                         is specified it is assumed that Bowtie is in the PATH.\r\n",
      "\r\n",
      "--bowtie2                This will create bisulfite indexes for Bowtie 2. (Default: ON).\r\n",
      "\r\n",
      "--bowtie1                This will create bisulfite indexes for Bowtie 1. (Default: OFF).\r\n",
      "\r\n",
      "--single_fasta           Instruct the Bismark Indexer to write the converted genomes into\r\n",
      "                         single-entry FastA files instead of making one multi-FastA file (MFA)\r\n",
      "                         per chromosome. This might be useful if individual bisulfite converted\r\n",
      "                         chromosomes are needed (e.g. for debugging), however it can cause a\r\n",
      "                         problem with indexing if the number of chromosomes is vast (this is likely\r\n",
      "                         to be in the range of several thousand files; the operating system can\r\n",
      "                         only handle lists up to a certain length, and some newly assembled\r\n",
      "                         genomes may contain 20000-500000 contigs of scaffold files which do exceed\r\n",
      "                         this list length limit).\r\n",
      "\r\n",
      "--genomic_composition    Calculate and extract the genomic sequence composition for mono and di-nucleotides\r\n",
      "                         and write the genomic composition table 'genomic_nucleotide_frequencies.txt' to the\r\n",
      "                         genome folder. This may be useful later on when using bam2nuc or the Bismark option\r\n",
      "                         --nucleotide_coverage.\r\n",
      "\r\n",
      "\r\n",
      "ARGUMENTS:\r\n",
      "\r\n",
      "<path_to_genome_folder>  The path to the folder containing the genome to be bisulfite converted.\r\n",
      "                         The Bismark Genome Preparation expects one or more fastA files in the folder\r\n",
      "                         (with the file extension: .fa or .fasta). Specifying this path is mandatory.\r\n",
      "\r\n",
      "\r\n",
      "This script was last modified on 15 August 2017.\r\n"
     ]
    }
   ],
   "source": [
    "! ../../../../../Shared/Apps/Bismark_v0.19.0/bismark_genome_preparation -help"
   ]
  },
  {
   "cell_type": "markdown",
   "metadata": {},
   "source": [
    "Here are the inputs for my command:\n",
    "\n",
    "1. Path to `bismark_genome_preparation`\n",
    "2. --path_to_bowtie + the path\n",
    "3. --verbose: Prints detailed output for debugging\n",
    "4. Path to *C virginica* genome folder"
   ]
  },
  {
   "cell_type": "markdown",
   "metadata": {},
   "source": []
  }
 ],
 "metadata": {
  "anaconda-cloud": {},
  "kernelspec": {
   "display_name": "Python [default]",
   "language": "python",
   "name": "python3"
  },
  "language_info": {
   "codemirror_mode": {
    "name": "ipython",
    "version": 3
   },
   "file_extension": ".py",
   "mimetype": "text/x-python",
   "name": "python",
   "nbconvert_exporter": "python",
   "pygments_lexer": "ipython3",
   "version": "3.5.2"
  }
 },
 "nbformat": 4,
 "nbformat_minor": 1
}
