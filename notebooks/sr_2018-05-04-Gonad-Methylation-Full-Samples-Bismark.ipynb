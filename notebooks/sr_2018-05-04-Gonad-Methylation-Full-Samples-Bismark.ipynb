{
 "cells": [
  {
   "cell_type": "markdown",
   "metadata": {},
   "source": [
    "# Bismark\n",
    "\n",
    "In this notebook I'll use Bismark on the full extent of my data. The steps from the [user guide](https://rawgit.com/FelixKrueger/Bismark/master/Docs/Bismark_User_Guide.html#i-bismark-genome-preparation) are as follows:\n",
    "\n",
    "1. Genome Preparation (already done in [this Jupyter notebook](https://github.com/RobertsLab/project-virginica-oa/blob/master/notebooks/2018-04-27-Gonad-Methylation-Bismark.ipynb))\n",
    "2. Alignment\n",
    "3. Deduplication\n",
    "4. Methlyation Extractor\n",
    "5. HTML Processing Report\n",
    "6. Summary Report"
   ]
  },
  {
   "cell_type": "markdown",
   "metadata": {},
   "source": [
    "## File Locations"
   ]
  },
  {
   "cell_type": "code",
   "execution_count": 9,
   "metadata": {
    "ExecuteTime": {
     "end_time": "2018-05-12T10:21:34.503465Z",
     "start_time": "2018-05-12T10:21:34.496367Z"
    }
   },
   "outputs": [],
   "source": [
    "bmk=\"/Applications/bioinfo/Bismark_v0.19.0/bismark\"\n",
    "gnm=\"/Users/sr320/Dropbox/wd/18-03-15/genome\""
   ]
  },
  {
   "cell_type": "markdown",
   "metadata": {},
   "source": [
    "## 0. Set working directory"
   ]
  },
  {
   "cell_type": "code",
   "execution_count": 13,
   "metadata": {
    "ExecuteTime": {
     "end_time": "2018-05-12T10:25:30.854566Z",
     "start_time": "2018-05-12T10:25:30.842404Z"
    }
   },
   "outputs": [
    {
     "name": "stdout",
     "output_type": "stream",
     "text": [
      "/Users/sr320/Documents/GitHub/project-virginica-oa/analyses\n"
     ]
    }
   ],
   "source": [
    "cd .."
   ]
  },
  {
   "cell_type": "code",
   "execution_count": 11,
   "metadata": {
    "ExecuteTime": {
     "end_time": "2018-05-12T10:25:22.322485Z",
     "start_time": "2018-05-12T10:25:22.270611Z"
    }
   },
   "outputs": [
    {
     "data": {
      "text/plain": [
       "'/Users/sr320/Documents/GitHub/project-virginica-oa/analyses/2018-05-04-Bismark-Full-Samples'"
      ]
     },
     "execution_count": 11,
     "metadata": {},
     "output_type": "execute_result"
    }
   ],
   "source": [
    "pwd"
   ]
  },
  {
   "cell_type": "code",
   "execution_count": 1,
   "metadata": {
    "ExecuteTime": {
     "end_time": "2018-05-12T10:16:32.845262Z",
     "start_time": "2018-05-12T10:16:32.831522Z"
    }
   },
   "outputs": [
    {
     "name": "stdout",
     "output_type": "stream",
     "text": [
      "/Users/sr320/Documents/GitHub/project-virginica-oa/analyses\n"
     ]
    }
   ],
   "source": [
    "cd ../analyses/"
   ]
  },
  {
   "cell_type": "code",
   "execution_count": 14,
   "metadata": {
    "ExecuteTime": {
     "end_time": "2018-05-12T10:25:50.292227Z",
     "start_time": "2018-05-12T10:25:50.151246Z"
    }
   },
   "outputs": [],
   "source": [
    "mkdir 2018-05-12"
   ]
  },
  {
   "cell_type": "code",
   "execution_count": 4,
   "metadata": {},
   "outputs": [
    {
     "name": "stdout",
     "output_type": "stream",
     "text": [
      "\u001b[34m2018-01-23-MBDSeq-Labwork\u001b[m\u001b[m/           \u001b[34m2018-05-01-MethylKit\u001b[m\u001b[m/\r\n",
      "\u001b[34m2018-04-26-Gonad-Methylation-FastQC\u001b[m\u001b[m/ \u001b[34m2018-05-04-Bismark-Full-Samples\u001b[m\u001b[m/\r\n",
      "\u001b[34m2018-04-27-Bismark\u001b[m\u001b[m/                  README.md\r\n"
     ]
    }
   ],
   "source": [
    "ls"
   ]
  },
  {
   "cell_type": "code",
   "execution_count": 15,
   "metadata": {
    "ExecuteTime": {
     "end_time": "2018-05-12T10:26:14.808595Z",
     "start_time": "2018-05-12T10:26:14.801103Z"
    }
   },
   "outputs": [
    {
     "name": "stdout",
     "output_type": "stream",
     "text": [
      "/Users/sr320/Documents/GitHub/project-virginica-oa/analyses/2018-05-12\n"
     ]
    }
   ],
   "source": [
    "cd 2018-05-12"
   ]
  },
  {
   "cell_type": "markdown",
   "metadata": {},
   "source": [
    "## 1. Genome Preparation"
   ]
  },
  {
   "cell_type": "markdown",
   "metadata": {},
   "source": [
    "This step was already completed in [this Jupyter notebook](https://github.com/RobertsLab/project-virginica-oa/blob/master/notebooks/2018-04-27-Gonad-Methylation-Bismark.ipynb). The genome only needs to be prepared once. I will move on to the second step, alignment."
   ]
  },
  {
   "cell_type": "markdown",
   "metadata": {},
   "source": [
    "## 2. Alignment"
   ]
  },
  {
   "cell_type": "markdown",
   "metadata": {},
   "source": [
    "What I need for this command:\n",
    "\n",
    "1. Path to `bismark`\n",
    "2. --non_directional: See [this issue](https://github.com/RobertsLab/resources/issues/216)\n",
    "3. --score_min L,0,-1.2: Allow for mismatches\n",
    "4. -p 2: My data has paired reads\n",
    "5. --genome + path to the folder with the .fa genome, which also has all of the bisulfite genome directories.\n",
    "6. Path to sequence files for alignment\n",
    "7. Filename for `bismark` error."
   ]
  },
  {
   "cell_type": "code",
   "execution_count": 10,
   "metadata": {
    "ExecuteTime": {
     "end_time": "2018-05-12T10:25:20.623827Z",
     "start_time": "2018-05-12T10:21:52.428412Z"
    }
   },
   "outputs": [
    {
     "name": "stdout",
     "output_type": "stream",
     "text": [
      "FastQ format assumed (by default)\n",
      "Each Bowtie 2 instance is going to be run with 4 threads. Please monitor performance closely and tune down if needed!\n",
      "chr NC_035780.1 (65668440 bp)\n",
      "chr NC_035781.1 (61752955 bp)\n",
      "chr NC_035782.1 (77061148 bp)\n",
      "chr NC_035783.1 (59691872 bp)\n",
      "chr NC_035784.1 (98698416 bp)\n",
      "chr NC_035785.1 (51258098 bp)\n",
      "chr NC_035786.1 (57830854 bp)\n",
      "chr NC_035787.1 (75944018 bp)\n",
      "chr NC_035788.1 (104168038 bp)\n",
      "chr NC_035789.1 (32650045 bp)\n",
      "chr NC_007175.2 (17244 bp)\n",
      "\n",
      "Processed 1000 sequences in total\n",
      "\n",
      "Sequences with no alignments under any condition:\t214\n",
      "Sequences did not map uniquely:\t229\n",
      "Sequences which were discarded because genomic sequence could not be extracted:\t0\n",
      "\n",
      "Number of sequences with unique best (first) alignment came from the bowtie output:\n",
      "CT/CT:\t137\t((converted) top strand)\n",
      "CT/GA:\t115\t((converted) bottom strand)\n",
      "GA/CT:\t149\t(complementary to (converted) top strand)\n",
      "GA/GA:\t156\t(complementary to (converted) bottom strand)\n",
      "\n",
      "Processed 1000 sequences in total\n",
      "\n",
      "Sequences with no alignments under any condition:\t126\n",
      "Sequences did not map uniquely:\t229\n",
      "Sequences which were discarded because genomic sequence could not be extracted:\t0\n",
      "\n",
      "Number of sequences with unique best (first) alignment came from the bowtie output:\n",
      "CT/CT:\t155\t((converted) top strand)\n",
      "CT/GA:\t139\t((converted) bottom strand)\n",
      "GA/CT:\t185\t(complementary to (converted) top strand)\n",
      "GA/GA:\t166\t(complementary to (converted) bottom strand)\n",
      "\n",
      "Processed 1000 sequences in total\n",
      "\n",
      "Sequences with no alignments under any condition:\t582\n",
      "Sequences did not map uniquely:\t119\n",
      "Sequences which were discarded because genomic sequence could not be extracted:\t0\n",
      "\n",
      "Number of sequences with unique best (first) alignment came from the bowtie output:\n",
      "CT/CT:\t72\t((converted) top strand)\n",
      "CT/GA:\t77\t((converted) bottom strand)\n",
      "GA/CT:\t68\t(complementary to (converted) top strand)\n",
      "GA/GA:\t82\t(complementary to (converted) bottom strand)\n",
      "\n",
      "Processed 1000 sequences in total\n",
      "\n",
      "Sequences with no alignments under any condition:\t538\n",
      "Sequences did not map uniquely:\t119\n",
      "Sequences which were discarded because genomic sequence could not be extracted:\t0\n",
      "\n",
      "Number of sequences with unique best (first) alignment came from the bowtie output:\n",
      "CT/CT:\t71\t((converted) top strand)\n",
      "CT/GA:\t81\t((converted) bottom strand)\n",
      "GA/CT:\t96\t(complementary to (converted) top strand)\n",
      "GA/GA:\t95\t(complementary to (converted) bottom strand)\n",
      "\n",
      "Processed 1000 sequences in total\n",
      "\n",
      "Sequences with no alignments under any condition:\t299\n",
      "Sequences did not map uniquely:\t174\n",
      "Sequences which were discarded because genomic sequence could not be extracted:\t0\n",
      "\n",
      "Number of sequences with unique best (first) alignment came from the bowtie output:\n",
      "CT/CT:\t120\t((converted) top strand)\n",
      "CT/GA:\t141\t((converted) bottom strand)\n",
      "GA/CT:\t125\t(complementary to (converted) top strand)\n",
      "GA/GA:\t141\t(complementary to (converted) bottom strand)\n",
      "\n",
      "Processed 1000 sequences in total\n",
      "\n",
      "Sequences with no alignments under any condition:\t241\n",
      "Sequences did not map uniquely:\t185\n",
      "Sequences which were discarded because genomic sequence could not be extracted:\t0\n",
      "\n",
      "Number of sequences with unique best (first) alignment came from the bowtie output:\n",
      "CT/CT:\t133\t((converted) top strand)\n",
      "CT/GA:\t144\t((converted) bottom strand)\n",
      "GA/CT:\t145\t(complementary to (converted) top strand)\n",
      "GA/GA:\t152\t(complementary to (converted) bottom strand)\n",
      "\n",
      "Processed 1000 sequences in total\n",
      "\n",
      "Sequences with no alignments under any condition:\t182\n",
      "Sequences did not map uniquely:\t235\n",
      "Sequences which were discarded because genomic sequence could not be extracted:\t0\n",
      "\n",
      "Number of sequences with unique best (first) alignment came from the bowtie output:\n",
      "CT/CT:\t133\t((converted) top strand)\n",
      "CT/GA:\t137\t((converted) bottom strand)\n",
      "GA/CT:\t166\t(complementary to (converted) top strand)\n",
      "GA/GA:\t147\t(complementary to (converted) bottom strand)\n",
      "\n",
      "Processed 1000 sequences in total\n",
      "\n",
      "Sequences with no alignments under any condition:\t123\n",
      "Sequences did not map uniquely:\t257\n",
      "Sequences which were discarded because genomic sequence could not be extracted:\t0\n",
      "\n",
      "Number of sequences with unique best (first) alignment came from the bowtie output:\n",
      "CT/CT:\t149\t((converted) top strand)\n",
      "CT/GA:\t132\t((converted) bottom strand)\n",
      "GA/CT:\t170\t(complementary to (converted) top strand)\n",
      "GA/GA:\t169\t(complementary to (converted) bottom strand)\n",
      "\n",
      "Processed 1000 sequences in total\n",
      "\n",
      "Sequences with no alignments under any condition:\t213\n",
      "Sequences did not map uniquely:\t216\n",
      "Sequences which were discarded because genomic sequence could not be extracted:\t0\n",
      "\n",
      "Number of sequences with unique best (first) alignment came from the bowtie output:\n",
      "CT/CT:\t140\t((converted) top strand)\n",
      "CT/GA:\t134\t((converted) bottom strand)\n",
      "GA/CT:\t147\t(complementary to (converted) top strand)\n",
      "GA/GA:\t150\t(complementary to (converted) bottom strand)\n",
      "\n",
      "Processed 1000 sequences in total\n",
      "\n",
      "Sequences with no alignments under any condition:\t162\n",
      "Sequences did not map uniquely:\t229\n",
      "Sequences which were discarded because genomic sequence could not be extracted:\t0\n",
      "\n",
      "Number of sequences with unique best (first) alignment came from the bowtie output:\n",
      "CT/CT:\t138\t((converted) top strand)\n",
      "CT/GA:\t143\t((converted) bottom strand)\n",
      "GA/CT:\t160\t(complementary to (converted) top strand)\n",
      "GA/GA:\t168\t(complementary to (converted) bottom strand)\n",
      "\n",
      "Processed 1000 sequences in total\n",
      "\n",
      "Sequences with no alignments under any condition:\t212\n",
      "Sequences did not map uniquely:\t213\n",
      "Sequences which were discarded because genomic sequence could not be extracted:\t0\n",
      "\n",
      "Number of sequences with unique best (first) alignment came from the bowtie output:\n",
      "CT/CT:\t143\t((converted) top strand)\n",
      "CT/GA:\t137\t((converted) bottom strand)\n",
      "GA/CT:\t163\t(complementary to (converted) top strand)\n",
      "GA/GA:\t132\t(complementary to (converted) bottom strand)\n",
      "\n",
      "Processed 1000 sequences in total\n",
      "\n",
      "Sequences with no alignments under any condition:\t136\n",
      "Sequences did not map uniquely:\t231\n",
      "Sequences which were discarded because genomic sequence could not be extracted:\t0\n",
      "\n",
      "Number of sequences with unique best (first) alignment came from the bowtie output:\n",
      "CT/CT:\t153\t((converted) top strand)\n",
      "CT/GA:\t130\t((converted) bottom strand)\n",
      "GA/CT:\t192\t(complementary to (converted) top strand)\n",
      "GA/GA:\t158\t(complementary to (converted) bottom strand)\n",
      "\n",
      "Processed 1000 sequences in total\n",
      "\n",
      "Sequences with no alignments under any condition:\t180\n",
      "Sequences did not map uniquely:\t227\n",
      "Sequences which were discarded because genomic sequence could not be extracted:\t0\n",
      "\n",
      "Number of sequences with unique best (first) alignment came from the bowtie output:\n",
      "CT/CT:\t164\t((converted) top strand)\n",
      "CT/GA:\t134\t((converted) bottom strand)\n",
      "GA/CT:\t128\t(complementary to (converted) top strand)\n",
      "GA/GA:\t167\t(complementary to (converted) bottom strand)\n",
      "\n",
      "Processed 1000 sequences in total\n",
      "\n",
      "Sequences with no alignments under any condition:\t124\n",
      "Sequences did not map uniquely:\t243\n",
      "Sequences which were discarded because genomic sequence could not be extracted:\t0\n",
      "\n",
      "Number of sequences with unique best (first) alignment came from the bowtie output:\n",
      "CT/CT:\t113\t((converted) top strand)\n",
      "CT/GA:\t167\t((converted) bottom strand)\n",
      "GA/CT:\t185\t(complementary to (converted) top strand)\n",
      "GA/GA:\t168\t(complementary to (converted) bottom strand)\n",
      "\n",
      "Processed 1000 sequences in total\n",
      "\n",
      "Sequences with no alignments under any condition:\t200\n",
      "Sequences did not map uniquely:\t185\n",
      "Sequences which were discarded because genomic sequence could not be extracted:\t0\n",
      "\n",
      "Number of sequences with unique best (first) alignment came from the bowtie output:\n",
      "CT/CT:\t155\t((converted) top strand)\n",
      "CT/GA:\t133\t((converted) bottom strand)\n",
      "GA/CT:\t159\t(complementary to (converted) top strand)\n",
      "GA/GA:\t168\t(complementary to (converted) bottom strand)\n",
      "\n",
      "Processed 1000 sequences in total\n",
      "\n",
      "Sequences with no alignments under any condition:\t126\n",
      "Sequences did not map uniquely:\t215\n",
      "Sequences which were discarded because genomic sequence could not be extracted:\t0\n",
      "\n",
      "Number of sequences with unique best (first) alignment came from the bowtie output:\n",
      "CT/CT:\t151\t((converted) top strand)\n",
      "CT/GA:\t143\t((converted) bottom strand)\n",
      "GA/CT:\t193\t(complementary to (converted) top strand)\n",
      "GA/GA:\t172\t(complementary to (converted) bottom strand)\n",
      "\n",
      "Processed 1000 sequences in total\n",
      "\n",
      "Sequences with no alignments under any condition:\t269\n",
      "Sequences did not map uniquely:\t183\n",
      "Sequences which were discarded because genomic sequence could not be extracted:\t0\n",
      "\n",
      "Number of sequences with unique best (first) alignment came from the bowtie output:\n",
      "CT/CT:\t135\t((converted) top strand)\n",
      "CT/GA:\t132\t((converted) bottom strand)\n",
      "GA/CT:\t135\t(complementary to (converted) top strand)\n",
      "GA/GA:\t146\t(complementary to (converted) bottom strand)\n",
      "\n"
     ]
    },
    {
     "name": "stdout",
     "output_type": "stream",
     "text": [
      "Processed 1000 sequences in total\n",
      "\n",
      "Sequences with no alignments under any condition:\t220\n",
      "Sequences did not map uniquely:\t211\n",
      "Sequences which were discarded because genomic sequence could not be extracted:\t0\n",
      "\n",
      "Number of sequences with unique best (first) alignment came from the bowtie output:\n",
      "CT/CT:\t124\t((converted) top strand)\n",
      "CT/GA:\t134\t((converted) bottom strand)\n",
      "GA/CT:\t157\t(complementary to (converted) top strand)\n",
      "GA/GA:\t154\t(complementary to (converted) bottom strand)\n",
      "\n",
      "Processed 1000 sequences in total\n",
      "\n",
      "Sequences with no alignments under any condition:\t344\n",
      "Sequences did not map uniquely:\t171\n",
      "Sequences which were discarded because genomic sequence could not be extracted:\t0\n",
      "\n",
      "Number of sequences with unique best (first) alignment came from the bowtie output:\n",
      "CT/CT:\t124\t((converted) top strand)\n",
      "CT/GA:\t130\t((converted) bottom strand)\n",
      "GA/CT:\t119\t(complementary to (converted) top strand)\n",
      "GA/GA:\t112\t(complementary to (converted) bottom strand)\n",
      "\n",
      "Processed 1000 sequences in total\n",
      "\n",
      "Sequences with no alignments under any condition:\t158\n",
      "Sequences did not map uniquely:\t230\n",
      "Sequences which were discarded because genomic sequence could not be extracted:\t0\n",
      "\n",
      "Number of sequences with unique best (first) alignment came from the bowtie output:\n",
      "CT/CT:\t119\t((converted) top strand)\n",
      "CT/GA:\t115\t((converted) bottom strand)\n",
      "GA/CT:\t190\t(complementary to (converted) top strand)\n",
      "GA/GA:\t188\t(complementary to (converted) bottom strand)\n",
      "\n"
     ]
    }
   ],
   "source": [
    "! $bmk \\\n",
    "--non_directional \\\n",
    "--score_min L,0,-1.2 \\\n",
    "-p 4 \\\n",
    "-u 1000 \\\n",
    "--genome $gnm \\\n",
    "/Volumes/web/nightingales/C_virginica/zr2096_* \\\n",
    "2> bismark.err"
   ]
  },
  {
   "cell_type": "code",
   "execution_count": 8,
   "metadata": {
    "ExecuteTime": {
     "end_time": "2018-05-12T10:19:04.711745Z",
     "start_time": "2018-05-12T10:19:04.574898Z"
    }
   },
   "outputs": [
    {
     "name": "stdout",
     "output_type": "stream",
     "text": [
      "Path to Bowtie 2 specified as: bowtie2\r\n",
      "Bowtie seems to be working fine (tested command 'bowtie2 --version' [2.3.4])\r\n",
      "Output format is BAM (default)\r\n",
      "Alignments will be written out in BAM format. Samtools found here: '/Applications/bioinfo/samtools-1.7/samtools'\r\n",
      "Reference genome folder provided is ../2018-04-27-Bismark/2018-04-27-Bismark-Inputs/\t(absolute path is '/Users/sr320/Documents/GitHub/project-virginica-oa/analyses/2018-04-27-Bismark/2018-04-27-Bismark-Inputs/)'\r\n",
      "Failed to move to directory /Users/sr320/Documents/GitHub/project-virginica-oa/analyses/2018-04-27-Bismark/2018-04-27-Bismark-Inputs/Bisulfite_Genome/CT_conversion/: No such file or directory\r\n"
     ]
    }
   ],
   "source": [
    "cat bismark.err"
   ]
  },
  {
   "cell_type": "code",
   "execution_count": 5,
   "metadata": {},
   "outputs": [
    {
     "name": "stdout",
     "output_type": "stream",
     "text": [
      "zr2096_10_s1_R1_bismark_bt2.bam\r\n",
      "zr2096_10_s1_R1_bismark_bt2_SE_report.txt\r\n",
      "zr2096_10_s1_R2_bismark_bt2.bam\r\n",
      "zr2096_10_s1_R2_bismark_bt2_SE_report.txt\r\n",
      "zr2096_1_s1_R1_bismark_bt2.bam\r\n",
      "zr2096_1_s1_R1_bismark_bt2_SE_report.txt\r\n",
      "zr2096_1_s1_R2_bismark_bt2.bam\r\n",
      "zr2096_1_s1_R2_bismark_bt2_SE_report.txt\r\n",
      "zr2096_2_s1_R1_bismark_bt2.bam\r\n",
      "zr2096_2_s1_R1_bismark_bt2_SE_report.txt\r\n",
      "zr2096_2_s1_R2_bismark_bt2.bam\r\n",
      "zr2096_2_s1_R2_bismark_bt2_SE_report.txt\r\n",
      "zr2096_3_s1_R1_bismark_bt2.bam\r\n",
      "zr2096_3_s1_R1_bismark_bt2_SE_report.txt\r\n",
      "zr2096_3_s1_R2_bismark_bt2.bam\r\n",
      "zr2096_3_s1_R2_bismark_bt2_SE_report.txt\r\n",
      "zr2096_4_s1_R1_bismark_bt2.bam\r\n",
      "zr2096_4_s1_R1_bismark_bt2_SE_report.txt\r\n",
      "zr2096_4_s1_R2_bismark_bt2.bam\r\n",
      "zr2096_4_s1_R2_bismark_bt2_SE_report.txt\r\n",
      "zr2096_5_s1_R1_bismark_bt2.bam\r\n",
      "zr2096_5_s1_R1_bismark_bt2_SE_report.txt\r\n",
      "zr2096_5_s1_R2_bismark_bt2.bam\r\n",
      "zr2096_5_s1_R2_bismark_bt2_SE_report.txt\r\n",
      "zr2096_6_s1_R1_bismark_bt2.bam\r\n",
      "zr2096_6_s1_R1_bismark_bt2_SE_report.txt\r\n",
      "zr2096_6_s1_R2_bismark_bt2.bam\r\n",
      "zr2096_6_s1_R2_bismark_bt2_SE_report.txt\r\n",
      "zr2096_7_s1_R1_bismark_bt2.bam\r\n",
      "zr2096_7_s1_R1_bismark_bt2_SE_report.txt\r\n",
      "zr2096_7_s1_R2_bismark_bt2.bam\r\n",
      "zr2096_7_s1_R2_bismark_bt2_SE_report.txt\r\n",
      "zr2096_8_s1_R1_bismark_bt2.bam\r\n",
      "zr2096_8_s1_R1_bismark_bt2_SE_report.txt\r\n",
      "zr2096_8_s1_R2_bismark_bt2.bam\r\n",
      "zr2096_8_s1_R2_bismark_bt2_SE_report.txt\r\n",
      "zr2096_9_s1_R1_bismark_bt2.bam\r\n",
      "zr2096_9_s1_R1_bismark_bt2_SE_report.txt\r\n",
      "zr2096_9_s1_R2_bismark_bt2.bam\r\n",
      "zr2096_9_s1_R2_bismark_bt2_SE_report.txt\r\n"
     ]
    }
   ],
   "source": [
    "ls"
   ]
  },
  {
   "cell_type": "markdown",
   "metadata": {},
   "source": [
    "## 3. Deduplication"
   ]
  },
  {
   "cell_type": "markdown",
   "metadata": {},
   "source": [
    "This step wasn't explicitly laid out in the User Guide. The deduplication step removes any PCR artifacts from the data."
   ]
  },
  {
   "cell_type": "code",
   "execution_count": 4,
   "metadata": {},
   "outputs": [
    {
     "name": "stdout",
     "output_type": "stream",
     "text": [
      "\r\n",
      "===============================================================================================================\r\n",
      "\r\n",
      "This script is supposed to remove alignments to the same position in the genome from the Bismark mapping output\r\n",
      "(both single and paired-end SAM files), which can arise by e.g. excessive PCR amplification. If sequences align\r\n",
      "to the same genomic position but on different strands they will be scored individually.\r\n",
      "\r\n",
      "Note that deduplication is not recommended for RRBS-type experiments!\r\n",
      "\r\n",
      "In the default mode, the first alignment to a given position will be used irrespective of its methylation call\r\n",
      "(this is the fastest option, and as the alignments are not ordered in any way this is also near enough random).\r\n",
      "\r\n",
      "For single-end alignments only use the start coordinate of a read will be used for deduplication.\r\n",
      "\r\n",
      "For paired-end alignments the start-coordinate of the first read and the end coordinate of the second\r\n",
      "read will be used for deduplication. This script expects the Bismark output to be in SAM format\r\n",
      "(Bismark v0.6.x or higher). To deduplicate the old custom Bismark output please specify '--vanilla'.\r\n",
      "\r\n",
      "*** Please note that for paired-end BAM files the deduplication script expects Read1 and Read2 to\r\n",
      "follow each other in consecutive lines! If the file has been sorted by position make sure that you resort it\r\n",
      "by read name first (e.g. using samtools sort -n)  ***\r\n",
      "\r\n",
      "===============================================================================================================\r\n",
      "\r\n",
      ">>> USAGE: ./deduplicate_bismark_alignment_output.pl [options] filename(s) <<<\r\n",
      "\r\n",
      "-s/--single\t\tdeduplicate single-end Bismark files (default format: SAM)\r\n",
      "-p/--paired\t\tdeduplicate paired-end Bismark files (default format: SAM)\r\n",
      "\r\n",
      "--output_dir [path]\tOutput directory, either relative or absolute. Output is written to the current directory if not\r\n",
      "\t\t\tspecified explicitly.\r\n",
      "\r\n",
      "--vanilla\t\tThe input file is in the old custom Bismark format and not in SAM format\r\n",
      "\r\n",
      "--barcode\t\tIn addition to chromosome, start position and orientation this will also take a potential barcode into\r\n",
      "                        consideration while deduplicating. The barcode needs to be the last element of the read ID and separated\r\n",
      "                        by a ':', e.g.: MISEQ:14:000000000-A55D0:1:1101:18024:2858_1:N:0:CTCCT\r\n",
      "\r\n",
      "--bam\t\t\tThe output will be written out in BAM format instead of the default SAM format. This script will\r\n",
      "\t\t\tattempt to use the path to Samtools that was specified with '--samtools_path', or, if it hasn't\r\n",
      "\t\t\tbeen specified, attempt to find Samtools in the PATH. If no installation of Samtools can be found,\r\n",
      "\t\t\tthe SAM output will be compressed with GZIP instead (yielding a .sam.gz output file)\r\n",
      "\r\n",
      "--multiple\t\tAll specified input files are treated as one sample and concatenated together for deduplication.\r\n",
      "\t\t\tThis uses Unix 'cat' for SAM files and 'samtools cat' for BAM files. Additional notes for BAM files:\r\n",
      "\t\t\tAlthough this works on either BAM or CRAM, all input files must be the same format as each other.\r\n",
      "\t\t\tThe sequence dictionary of each input file must be identical, although this command does not check this.\r\n",
      "\t\t\tBy default the header is taken from the first file to be concatenated.\r\n",
      "\r\n",
      "--samtools_path\t\tThe path to your Samtools installation, e.g. /home/user/samtools/. Does not need to be specified\r\n",
      "\t\t\texplicitly if Samtools is in the PATH already\r\n",
      "\r\n",
      "--version\t\tPrint version information and exit\r\n",
      "===============================================================================================================\r\n",
      "\r\n",
      "This script was last modified on 07 September 2017\r\n",
      "\r\n"
     ]
    }
   ],
   "source": [
    "! ../../../../../Shared/Apps/Bismark_v0.19.0/deduplicate_bismark -help"
   ]
  },
  {
   "cell_type": "markdown",
   "metadata": {},
   "source": [
    "Here's what I need to run this command:\n",
    "\n",
    "1. Path to `deduplicate_bismark`\n",
    "2. -p: Input data is paired\n",
    "3. --bam: Write the output as a .bam file\n",
    "4. Path to input files "
   ]
  },
  {
   "cell_type": "code",
   "execution_count": 10,
   "metadata": {},
   "outputs": [
    {
     "name": "stdout",
     "output_type": "stream",
     "text": [
      "Processing paired-end Bismark output file(s) (SAM format):\n",
      "zr2096_10_s1_R1_bismark_bt2.bam\tzr2096_10_s1_R2_bismark_bt2.bam\tzr2096_1_s1_R1_bismark_bt2.bam\tzr2096_1_s1_R2_bismark_bt2.bam\tzr2096_2_s1_R1_bismark_bt2.bam\tzr2096_2_s1_R2_bismark_bt2.bam\tzr2096_3_s1_R1_bismark_bt2.bam\tzr2096_3_s1_R2_bismark_bt2.bam\tzr2096_4_s1_R1_bismark_bt2.bam\tzr2096_4_s1_R2_bismark_bt2.bam\tzr2096_5_s1_R1_bismark_bt2.bam\tzr2096_5_s1_R2_bismark_bt2.bam\tzr2096_6_s1_R1_bismark_bt2.bam\tzr2096_6_s1_R2_bismark_bt2.bam\tzr2096_7_s1_R1_bismark_bt2.bam\tzr2096_7_s1_R2_bismark_bt2.bam\tzr2096_8_s1_R1_bismark_bt2.bam\tzr2096_8_s1_R2_bismark_bt2.bam\tzr2096_9_s1_R1_bismark_bt2.bam\tzr2096_9_s1_R2_bismark_bt2.bam\n",
      "\n",
      "\n",
      "If there are several alignments to a single position in the genome the first alignment will be chosen. Since the input files are not in any way sorted this is a near-enough random selection of reads.\n",
      "\n",
      "Checking file >>zr2096_10_s1_R1_bismark_bt2.bam<< for signs of file truncation...\n",
      "\n",
      "Now testing Bismark result file zr2096_10_s1_R1_bismark_bt2.bam for positional sorting (which would be bad...)\t\n",
      "The IDs of Read 1 (HWI-C00124:321:CC781ANXX:2:1101:1205:2199_1:N:0:GATCAG) and Read 2 (HWI-C00124:321:CC781ANXX:2:1101:1145:2208_1:N:0:GATCAG) are not the same. This might be a result of sorting the paired-end SAM/BAM files by chromosomal position which is not compatible with correct methylation extraction. Please use an unsorted file instead (e.g. use samtools sort -n)\n",
      "\n"
     ]
    }
   ],
   "source": [
    "! ../../../../../Shared/Apps/Bismark_v0.19.0/deduplicate_bismark \\\n",
    "--bam -p \\\n",
    "*.bam \\"
   ]
  },
  {
   "cell_type": "code",
   "execution_count": null,
   "metadata": {
    "collapsed": true
   },
   "outputs": [],
   "source": []
  }
 ],
 "metadata": {
  "anaconda-cloud": {},
  "kernelspec": {
   "display_name": "Python 3",
   "language": "python",
   "name": "python3"
  },
  "language_info": {
   "codemirror_mode": {
    "name": "ipython",
    "version": 3
   },
   "file_extension": ".py",
   "mimetype": "text/x-python",
   "name": "python",
   "nbconvert_exporter": "python",
   "pygments_lexer": "ipython3",
   "version": "3.6.3"
  }
 },
 "nbformat": 4,
 "nbformat_minor": 1
}
