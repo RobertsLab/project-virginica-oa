{
 "cells": [
  {
   "cell_type": "markdown",
   "metadata": {},
   "source": [
    "# DML and DMR Analysis\n",
    "\n",
    "In this notebook, I will examine the location of differentially methylated loci (DMLs) and regions (DMRs) in the *C. virginica* genome. The DMLs were identified using methylKit in [this R script](https://github.com/RobertsLab/project-virginica-oa/blob/master/analyses/2018-05-29-MethylKit-Full-Samples/2018-05-29-MethylKit-Analysis-Full-Samples.R). DMLs were then written out as a [bedfile](https://github.com/RobertsLab/project-virginica-oa/blob/master/analyses/2018-05-29-MethylKit-Full-Samples/2018-05-30-DML-Locations.bed). Using this file, I will begin the analysis derived from [Steven's  notebook](https://github.com/sr320/nb-2018/blob/master/C_virginica/21-Bedtools.ipynb).\n",
    "\n",
    "1. Identify Overlaps with DMLs and Genomimc Feature Tracks\n",
    "2. Calculate Overlap Proprtions\n",
    "3. Gene Flanking\n",
    "4. Enrichment Analysis"
   ]
  },
  {
   "cell_type": "markdown",
   "metadata": {},
   "source": [
    "## 0. Set working directory"
   ]
  },
  {
   "cell_type": "code",
   "execution_count": 1,
   "metadata": {
    "collapsed": false
   },
   "outputs": [
    {
     "data": {
      "text/plain": [
       "'/Users/yaamini/Documents/project-virginica-oa/notebooks'"
      ]
     },
     "execution_count": 1,
     "metadata": {},
     "output_type": "execute_result"
    }
   ],
   "source": [
    "pwd"
   ]
  },
  {
   "cell_type": "code",
   "execution_count": 2,
   "metadata": {
    "collapsed": false
   },
   "outputs": [
    {
     "name": "stdout",
     "output_type": "stream",
     "text": [
      "/Users/yaamini/Documents/project-virginica-oa/analyses\n"
     ]
    }
   ],
   "source": [
    "cd ../analyses/"
   ]
  },
  {
   "cell_type": "code",
   "execution_count": 3,
   "metadata": {
    "collapsed": false
   },
   "outputs": [
    {
     "data": {
      "text/plain": [
       "'/Users/yaamini/Documents/project-virginica-oa/analyses'"
      ]
     },
     "execution_count": 3,
     "metadata": {},
     "output_type": "execute_result"
    }
   ],
   "source": [
    "pwd"
   ]
  },
  {
   "cell_type": "code",
   "execution_count": 4,
   "metadata": {
    "collapsed": true
   },
   "outputs": [],
   "source": [
    "!mkdir 2018-10-22-DML-Analysis"
   ]
  },
  {
   "cell_type": "code",
   "execution_count": 6,
   "metadata": {
    "collapsed": false
   },
   "outputs": [
    {
     "name": "stdout",
     "output_type": "stream",
     "text": [
      "\u001b[34m2018-01-23-MBDSeq-Labwork\u001b[m\u001b[m/\r\n",
      "\u001b[34m2018-04-26-Gonad-Methylation-FastQC\u001b[m\u001b[m/\r\n",
      "\u001b[34m2018-04-27-Bismark\u001b[m\u001b[m/\r\n",
      "\u001b[34m2018-05-01-MethylKit\u001b[m\u001b[m/\r\n",
      "\u001b[34m2018-05-29-MethylKit-Full-Samples\u001b[m\u001b[m/\r\n",
      "\u001b[34m2018-06-11-DML-Analysis\u001b[m\u001b[m/\r\n",
      "\u001b[34m2018-06-14-Gene-Enrichment-Analysis\u001b[m\u001b[m/\r\n",
      "\u001b[34m2018-10-04-Bismark-Full-Samples-Revised-Parameters\u001b[m\u001b[m/\r\n",
      "\u001b[34m2018-10-11-MethylKit-Parameter-Testing\u001b[m\u001b[m/\r\n",
      "\u001b[34m2018-10-22-DML-Analysis\u001b[m\u001b[m/\r\n",
      "README.md\r\n"
     ]
    }
   ],
   "source": [
    "ls -F"
   ]
  },
  {
   "cell_type": "code",
   "execution_count": 7,
   "metadata": {
    "collapsed": false
   },
   "outputs": [
    {
     "name": "stdout",
     "output_type": "stream",
     "text": [
      "/Users/yaamini/Documents/project-virginica-oa/analyses/2018-10-22-DML-Analysis\n"
     ]
    }
   ],
   "source": [
    "cd 2018-10-22-DML-Analysis/"
   ]
  },
  {
   "cell_type": "markdown",
   "metadata": {},
   "source": [
    "## 1. Identify Overlaps with DMLs and Genomic Feature Tracks"
   ]
  },
  {
   "cell_type": "markdown",
   "metadata": {},
   "source": [
    "To identify the location of DMLs in the *C. virginica* genome, I will use `intersect` from `bedtools`. [The BEDtools suite](http://bedtools.readthedocs.io/en/latest/content/bedtools-suite.html) allows me to easily find overlapping regions of different bed files."
   ]
  },
  {
   "cell_type": "markdown",
   "metadata": {},
   "source": [
    "### 1a. Locate BEDfiles for Analysis"
   ]
  },
  {
   "cell_type": "markdown",
   "metadata": {},
   "source": [
    "The BEDfile with DMLs can be viewed below. Columns are are the chromosome, start position, end position, strand, and fold difference with direction. This file only has DMLs that were at least 50% different between the two treatments (control and elevated pCO2)."
   ]
  },
  {
   "cell_type": "code",
   "execution_count": 8,
   "metadata": {
    "collapsed": false
   },
   "outputs": [
    {
     "name": "stdout",
     "output_type": "stream",
     "text": [
      "NC_035780.1\t346071\t346073\t-\t50\r\n",
      "NC_035780.1\t990995\t990997\t-\t-51\r\n",
      "NC_035780.1\t1882691\t1882693\t-\t52\r\n",
      "NC_035780.1\t1885022\t1885024\t-\t61\r\n",
      "NC_035780.1\t1933499\t1933501\t-\t53\r\n",
      "NC_035780.1\t1945182\t1945184\t+\t55\r\n",
      "NC_035780.1\t1958998\t1959000\t-\t53\r\n",
      "NC_035780.1\t1983256\t1983258\t-\t-69\r\n",
      "NC_035780.1\t2538924\t2538926\t-\t-50\r\n",
      "NC_035780.1\t2541652\t2541654\t-\t-55\r\n"
     ]
    }
   ],
   "source": [
    "!head ../2018-10-11-MethylKit-Parameter-Testing/2018-10-22-DML-Locations.bed"
   ]
  },
  {
   "cell_type": "code",
   "execution_count": 9,
   "metadata": {
    "collapsed": false
   },
   "outputs": [
    {
     "name": "stdout",
     "output_type": "stream",
     "text": [
      "    1398 ../2018-10-11-MethylKit-Parameter-Testing/2018-10-22-DML-Locations.bed\r\n"
     ]
    }
   ],
   "source": [
    "!wc -l ../2018-10-11-MethylKit-Parameter-Testing/2018-10-22-DML-Locations.bed"
   ]
  },
  {
   "cell_type": "markdown",
   "metadata": {},
   "source": [
    "I will be using the following Genome Feature Tracks:\n",
    "\n",
    "1. Exon: Coding regions\n",
    "2. Intron: Regions that are removed\n",
    "3. mRNA: Code for proteins! The mRNA track includes both introns and exons.\n",
    "4. CG motifs: Regions with CGs where methylation can occur\n",
    "\n",
    "The links to these feature tracks can be found on the [Roberts Lab Genomic Resources wiki page](https://github.com/RobertsLab/resources/wiki/Genomic-Resources)."
   ]
  },
  {
   "cell_type": "code",
   "execution_count": 10,
   "metadata": {
    "collapsed": false
   },
   "outputs": [
    {
     "name": "stdout",
     "output_type": "stream",
     "text": [
      "NC_035780.1\t13578\t13603\r\n",
      "NC_035780.1\t14237\t14290\r\n",
      "NC_035780.1\t14557\t14594\r\n",
      "NC_035780.1\t28961\t29073\r\n",
      "NC_035780.1\t30524\t31557\r\n",
      "NC_035780.1\t31736\t31887\r\n",
      "NC_035780.1\t31977\t32565\r\n",
      "NC_035780.1\t32959\t33324\r\n",
      "NC_035780.1\t66869\t66897\r\n",
      "NC_035780.1\t64123\t64334\r\n"
     ]
    }
   ],
   "source": [
    "!head ../2018-06-11-DML-Analysis/C_virginica-3.0_Gnomon_exon.bed"
   ]
  },
  {
   "cell_type": "code",
   "execution_count": 11,
   "metadata": {
    "collapsed": false
   },
   "outputs": [
    {
     "name": "stdout",
     "output_type": "stream",
     "text": [
      "  731279 ../2018-06-11-DML-Analysis/C_virginica-3.0_Gnomon_exon.bed\r\n"
     ]
    }
   ],
   "source": [
    "!wc -l ../2018-06-11-DML-Analysis/C_virginica-3.0_Gnomon_exon.bed"
   ]
  },
  {
   "cell_type": "code",
   "execution_count": 12,
   "metadata": {
    "collapsed": false
   },
   "outputs": [
    {
     "name": "stdout",
     "output_type": "stream",
     "text": [
      "NC_035780.1\t28961\t28961\r\n",
      "NC_035780.1\t29074\t30524\r\n",
      "NC_035780.1\t31558\t31736\r\n",
      "NC_035780.1\t31888\t31977\r\n",
      "NC_035780.1\t32566\t32959\r\n",
      "NC_035780.1\t43110\t43112\r\n",
      "NC_035780.1\t44359\t45913\r\n",
      "NC_035780.1\t46507\t64123\r\n",
      "NC_035780.1\t64335\t66869\r\n",
      "NC_035780.1\t85606\t85606\r\n"
     ]
    }
   ],
   "source": [
    "!head ../2018-06-11-DML-Analysis/C_virginica-3.0_intron.bed"
   ]
  },
  {
   "cell_type": "code",
   "execution_count": 13,
   "metadata": {
    "collapsed": false
   },
   "outputs": [
    {
     "name": "stdout",
     "output_type": "stream",
     "text": [
      "  319262 ../2018-06-11-DML-Analysis/C_virginica-3.0_intron.bed\r\n"
     ]
    }
   ],
   "source": [
    "!wc -l ../2018-06-11-DML-Analysis/C_virginica-3.0_intron.bed"
   ]
  },
  {
   "cell_type": "code",
   "execution_count": 14,
   "metadata": {
    "collapsed": false
   },
   "outputs": [
    {
     "name": "stdout",
     "output_type": "stream",
     "text": [
      "NC_035780.1\tGnomon\tmRNA\t28961\t33324\t.\t+\t.\tID=rna1;Parent=gene1;Dbxref=GeneID:111126949,Genbank:XM_022471938.1;Name=XM_022471938.1;gbkey=mRNA;gene=LOC111126949;model_evidence=Supporting evidence includes similarity to: 3 Proteins%2C and 100%25 coverage of the annotated genomic feature by RNAseq alignments%2C including 21 samples with support for all annotated introns;product=UNC5C-like protein;transcript_id=XM_022471938.1\r\n",
      "NC_035780.1\tGnomon\tmRNA\t43111\t66897\t.\t-\t.\tID=rna2;Parent=gene2;Dbxref=GeneID:111110729,Genbank:XM_022447324.1;Name=XM_022447324.1;gbkey=mRNA;gene=LOC111110729;model_evidence=Supporting evidence includes similarity to: 1 Protein%2C and 100%25 coverage of the annotated genomic feature by RNAseq alignments;product=FMRFamide receptor-like%2C transcript variant X1;transcript_id=XM_022447324.1\r\n",
      "NC_035780.1\tGnomon\tmRNA\t43111\t46506\t.\t-\t.\tID=rna3;Parent=gene2;Dbxref=GeneID:111110729,Genbank:XM_022447333.1;Name=XM_022447333.1;gbkey=mRNA;gene=LOC111110729;model_evidence=Supporting evidence includes similarity to: 1 Protein%2C and 100%25 coverage of the annotated genomic feature by RNAseq alignments%2C including 14 samples with support for all annotated introns;product=FMRFamide receptor-like%2C transcript variant X2;transcript_id=XM_022447333.1\r\n",
      "NC_035780.1\tGnomon\tmRNA\t85606\t95254\t.\t-\t.\tID=rna4;Parent=gene3;Dbxref=GeneID:111112434,Genbank:XM_022449924.1;Name=XM_022449924.1;gbkey=mRNA;gene=LOC111112434;model_evidence=Supporting evidence includes similarity to: 7 Proteins%2C and 100%25 coverage of the annotated genomic feature by RNAseq alignments%2C including 13 samples with support for all annotated introns;product=homeobox protein Hox-B7-like;transcript_id=XM_022449924.1\r\n",
      "NC_035780.1\tGnomon\tmRNA\t99840\t106460\t.\t+\t.\tID=rna5;Parent=gene4;Dbxref=GeneID:111120752,Genbank:XM_022461698.1;Name=XM_022461698.1;gbkey=mRNA;gene=LOC111120752;model_evidence=Supporting evidence includes similarity to: 10 Proteins%2C and 100%25 coverage of the annotated genomic feature by RNAseq alignments%2C including 27 samples with support for all annotated introns;product=ribulose-phosphate 3-epimerase-like;transcript_id=XM_022461698.1\r\n",
      "NC_035780.1\tGnomon\tmRNA\t108305\t110077\t.\t-\t.\tID=rna6;Parent=gene5;Dbxref=GeneID:111128944,Genbank:XM_022474921.1;Name=XM_022474921.1;gbkey=mRNA;gene=LOC111128944;model_evidence=Supporting evidence includes similarity to: 2 Proteins%2C and 93%25 coverage of the annotated genomic feature by RNAseq alignments;partial=true;product=mucin-19-like;start_range=.,108305;transcript_id=XM_022474921.1\r\n",
      "NC_035780.1\tGnomon\tmRNA\t151859\t157536\t.\t+\t.\tID=rna7;Parent=gene6;Dbxref=GeneID:111128953,Genbank:XM_022474931.1;Name=XM_022474931.1;gbkey=mRNA;gene=LOC111128953;model_evidence=Supporting evidence includes similarity to: 1 Protein;product=GATA zinc finger domain-containing protein 14-like;transcript_id=XM_022474931.1\r\n",
      "NC_035780.1\tGnomon\tmRNA\t163809\t183798\t.\t-\t.\tID=rna8;Parent=gene7;Dbxref=GeneID:111105691,Genbank:XM_022440054.1;Name=XM_022440054.1;gbkey=mRNA;gene=LOC111105691;model_evidence=Supporting evidence includes similarity to: 100%25 coverage of the annotated genomic feature by RNAseq alignments%2C including 9 samples with support for all annotated introns;product=uncharacterized LOC111105691;transcript_id=XM_022440054.1\r\n",
      "NC_035780.1\tGnomon\tmRNA\t164820\t166793\t.\t+\t.\tID=rna9;Parent=gene8;Dbxref=GeneID:111105685,Genbank:XM_022440042.1;Name=XM_022440042.1;gbkey=mRNA;gene=LOC111105685;model_evidence=Supporting evidence includes similarity to: 100%25 coverage of the annotated genomic feature by RNAseq alignments%2C including 4 samples with support for all annotated introns;product=protein ANTAGONIST OF LIKE HETEROCHROMATIN PROTEIN 1-like;transcript_id=XM_022440042.1\r\n",
      "NC_035780.1\tGnomon\tmRNA\t190449\t193594\t.\t-\t.\tID=rna11;Parent=gene10;Dbxref=GeneID:111133554,Genbank:XM_022482070.1;Name=XM_022482070.1;gbkey=mRNA;gene=LOC111133554;model_evidence=Supporting evidence includes similarity to: 100%25 coverage of the annotated genomic feature by RNAseq alignments%2C including 3 samples with support for all annotated introns;product=putative uncharacterized protein DDB_G0277407;transcript_id=XM_022482070.1\r\n"
     ]
    }
   ],
   "source": [
    "!head ../2018-06-11-DML-Analysis/C_virginica-3.0_Gnomon_mRNA.gff3"
   ]
  },
  {
   "cell_type": "code",
   "execution_count": 15,
   "metadata": {
    "collapsed": false
   },
   "outputs": [
    {
     "name": "stdout",
     "output_type": "stream",
     "text": [
      "   60201 ../2018-06-11-DML-Analysis/C_virginica-3.0_Gnomon_mRNA.gff3\r\n"
     ]
    }
   ],
   "source": [
    "!wc -l ../2018-06-11-DML-Analysis/C_virginica-3.0_Gnomon_mRNA.gff3"
   ]
  },
  {
   "cell_type": "code",
   "execution_count": 16,
   "metadata": {
    "collapsed": false
   },
   "outputs": [
    {
     "name": "stdout",
     "output_type": "stream",
     "text": [
      "NC_035780.1\t28\t30\tCG_motif\r\n",
      "NC_035780.1\t54\t56\tCG_motif\r\n",
      "NC_035780.1\t75\t77\tCG_motif\r\n",
      "NC_035780.1\t93\t95\tCG_motif\r\n",
      "NC_035780.1\t103\t105\tCG_motif\r\n",
      "NC_035780.1\t116\t118\tCG_motif\r\n",
      "NC_035780.1\t134\t136\tCG_motif\r\n",
      "NC_035780.1\t159\t161\tCG_motif\r\n",
      "NC_035780.1\t209\t211\tCG_motif\r\n",
      "NC_035780.1\t224\t226\tCG_motif\r\n"
     ]
    }
   ],
   "source": [
    "!head ../2018-06-11-DML-Analysis/C_virginica-3.0_CG-motif.bed"
   ]
  },
  {
   "cell_type": "code",
   "execution_count": 17,
   "metadata": {
    "collapsed": false
   },
   "outputs": [
    {
     "name": "stdout",
     "output_type": "stream",
     "text": [
      " 14458703 ../2018-06-11-DML-Analysis/C_virginica-3.0_CG-motif.bed\r\n"
     ]
    }
   ],
   "source": [
    "!wc -l ../2018-06-11-DML-Analysis/C_virginica-3.0_CG-motif.bed"
   ]
  },
  {
   "cell_type": "markdown",
   "metadata": {},
   "source": [
    "### 1b. Use `intersect`"
   ]
  },
  {
   "cell_type": "code",
   "execution_count": 30,
   "metadata": {
    "collapsed": false,
    "scrolled": true
   },
   "outputs": [
    {
     "name": "stdout",
     "output_type": "stream",
     "text": [
      "\r\n",
      "Tool:    bedtools intersect (aka intersectBed)\r\n",
      "Version: v2.26.0\r\n",
      "Summary: Report overlaps between two feature files.\r\n",
      "\r\n",
      "Usage:   bedtools intersect [OPTIONS] -a <bed/gff/vcf/bam> -b <bed/gff/vcf/bam>\r\n",
      "\r\n",
      "\tNote: -b may be followed with multiple databases and/or \r\n",
      "\twildcard (*) character(s). \r\n",
      "Options: \r\n",
      "\t-wa\tWrite the original entry in A for each overlap.\r\n",
      "\r\n",
      "\t-wb\tWrite the original entry in B for each overlap.\r\n",
      "\t\t- Useful for knowing _what_ A overlaps. Restricted by -f and -r.\r\n",
      "\r\n",
      "\t-loj\tPerform a \"left outer join\". That is, for each feature in A\r\n",
      "\t\treport each overlap with B.  If no overlaps are found, \r\n",
      "\t\treport a NULL feature for B.\r\n",
      "\r\n",
      "\t-wo\tWrite the original A and B entries plus the number of base\r\n",
      "\t\tpairs of overlap between the two features.\r\n",
      "\t\t- Overlaps restricted by -f and -r.\r\n",
      "\t\t  Only A features with overlap are reported.\r\n",
      "\r\n",
      "\t-wao\tWrite the original A and B entries plus the number of base\r\n",
      "\t\tpairs of overlap between the two features.\r\n",
      "\t\t- Overlapping features restricted by -f and -r.\r\n",
      "\t\t  However, A features w/o overlap are also reported\r\n",
      "\t\t  with a NULL B feature and overlap = 0.\r\n",
      "\r\n",
      "\t-u\tWrite the original A entry _once_ if _any_ overlaps found in B.\r\n",
      "\t\t- In other words, just report the fact >=1 hit was found.\r\n",
      "\t\t- Overlaps restricted by -f and -r.\r\n",
      "\r\n",
      "\t-c\tFor each entry in A, report the number of overlaps with B.\r\n",
      "\t\t- Reports 0 for A entries that have no overlap with B.\r\n",
      "\t\t- Overlaps restricted by -f and -r.\r\n",
      "\r\n",
      "\t-v\tOnly report those entries in A that have _no overlaps_ with B.\r\n",
      "\t\t- Similar to \"grep -v\" (an homage).\r\n",
      "\r\n",
      "\t-ubam\tWrite uncompressed BAM output. Default writes compressed BAM.\r\n",
      "\r\n",
      "\t-s\tRequire same strandedness.  That is, only report hits in B\r\n",
      "\t\tthat overlap A on the _same_ strand.\r\n",
      "\t\t- By default, overlaps are reported without respect to strand.\r\n",
      "\r\n",
      "\t-S\tRequire different strandedness.  That is, only report hits in B\r\n",
      "\t\tthat overlap A on the _opposite_ strand.\r\n",
      "\t\t- By default, overlaps are reported without respect to strand.\r\n",
      "\r\n",
      "\t-f\tMinimum overlap required as a fraction of A.\r\n",
      "\t\t- Default is 1E-9 (i.e., 1bp).\r\n",
      "\t\t- FLOAT (e.g. 0.50)\r\n",
      "\r\n",
      "\t-F\tMinimum overlap required as a fraction of B.\r\n",
      "\t\t- Default is 1E-9 (i.e., 1bp).\r\n",
      "\t\t- FLOAT (e.g. 0.50)\r\n",
      "\r\n",
      "\t-r\tRequire that the fraction overlap be reciprocal for A AND B.\r\n",
      "\t\t- In other words, if -f is 0.90 and -r is used, this requires\r\n",
      "\t\t  that B overlap 90% of A and A _also_ overlaps 90% of B.\r\n",
      "\r\n",
      "\t-e\tRequire that the minimum fraction be satisfied for A OR B.\r\n",
      "\t\t- In other words, if -e is used with -f 0.90 and -F 0.10 this requires\r\n",
      "\t\t  that either 90% of A is covered OR 10% of  B is covered.\r\n",
      "\t\t  Without -e, both fractions would have to be satisfied.\r\n",
      "\r\n",
      "\t-split\tTreat \"split\" BAM or BED12 entries as distinct BED intervals.\r\n",
      "\r\n",
      "\t-g\tProvide a genome file to enforce consistent chromosome sort order\r\n",
      "\t\tacross input files. Only applies when used with -sorted option.\r\n",
      "\r\n",
      "\t-nonamecheck\tFor sorted data, don't throw an error if the file has different naming conventions\r\n",
      "\t\t\tfor the same chromosome. ex. \"chr1\" vs \"chr01\".\r\n",
      "\r\n",
      "\t-sorted\tUse the \"chromsweep\" algorithm for sorted (-k1,1 -k2,2n) input.\r\n",
      "\r\n",
      "\t-names\tWhen using multiple databases, provide an alias for each that\r\n",
      "\t\twill appear instead of a fileId when also printing the DB record.\r\n",
      "\r\n",
      "\t-filenames\tWhen using multiple databases, show each complete filename\r\n",
      "\t\t\tinstead of a fileId when also printing the DB record.\r\n",
      "\r\n",
      "\t-sortout\tWhen using multiple databases, sort the output DB hits\r\n",
      "\t\t\tfor each record.\r\n",
      "\r\n",
      "\t-bed\tIf using BAM input, write output as BED.\r\n",
      "\r\n",
      "\t-header\tPrint the header from the A file prior to results.\r\n",
      "\r\n",
      "\t-nobuf\tDisable buffered output. Using this option will cause each line\r\n",
      "\t\tof output to be printed as it is generated, rather than saved\r\n",
      "\t\tin a buffer. This will make printing large output files \r\n",
      "\t\tnoticeably slower, but can be useful in conjunction with\r\n",
      "\t\tother software tools and scripts that need to process one\r\n",
      "\t\tline of bedtools output at a time.\r\n",
      "\r\n",
      "\t-iobuf\tSpecify amount of memory to use for input buffer.\r\n",
      "\t\tTakes an integer argument. Optional suffixes K/M/G supported.\r\n",
      "\t\tNote: currently has no effect with compressed files.\r\n",
      "\r\n",
      "Notes: \r\n",
      "\t(1) When a BAM file is used for the A file, the alignment is retained if overlaps exist,\r\n",
      "\tand exlcuded if an overlap cannot be found.  If multiple overlaps exist, they are not\r\n",
      "\treported, as we are only testing for one or more overlaps.\r\n",
      "\r\n"
     ]
    }
   ],
   "source": [
    "! /Users/Shared/bioinformatics/bedtools2/bin/intersectBed -h"
   ]
  },
  {
   "cell_type": "markdown",
   "metadata": {},
   "source": [
    "#### Exons"
   ]
  },
  {
   "cell_type": "markdown",
   "metadata": {},
   "source": [
    "In [Steven's notebook](https://github.com/che625/olson-ms-nb/blob/master/.ipynb_checkpoints/BiGo_dev-checkpoint.ipynb), I noticed he said that there are some exon regions that do not code for any mRNA! The exon and mRNA regions need to be merged. I'm not sure how to do that, so I'll do what I can and then post an issue."
   ]
  },
  {
   "cell_type": "code",
   "execution_count": 18,
   "metadata": {
    "collapsed": false
   },
   "outputs": [
    {
     "name": "stdout",
     "output_type": "stream",
     "text": [
      "     786\n",
      "overlaps with exons\n"
     ]
    }
   ],
   "source": [
    "! /Users/Shared/bioinformatics/bedtools2/bin/intersectBed \\\n",
    "-u \\\n",
    "-a ../2018-10-11-MethylKit-Parameter-Testing/2018-10-22-DML-Locations.bed \\\n",
    "-b ../2018-06-11-DML-Analysis/C_virginica-3.0_Gnomon_exon.bed \\\n",
    "| wc -l\n",
    "!echo \"overlaps with exons\""
   ]
  },
  {
   "cell_type": "code",
   "execution_count": 19,
   "metadata": {
    "collapsed": false
   },
   "outputs": [],
   "source": [
    "! /Users/Shared/bioinformatics/bedtools2/bin/intersectBed \\\n",
    "-wb \\\n",
    "-a ../2018-10-11-MethylKit-Parameter-Testing/2018-10-22-DML-Locations.bed \\\n",
    "-b ../2018-06-11-DML-Analysis/C_virginica-3.0_Gnomon_exon.bed \\\n",
    "> 2018-10-22-DML-Exon.txt"
   ]
  },
  {
   "cell_type": "code",
   "execution_count": 20,
   "metadata": {
    "collapsed": false
   },
   "outputs": [
    {
     "name": "stdout",
     "output_type": "stream",
     "text": [
      "NC_035780.1\t346071\t346073\t-\t50\tNC_035780.1\t345983\t346125\r\n",
      "NC_035780.1\t990995\t990997\t-\t-51\tNC_035780.1\t990854\t991062\r\n",
      "NC_035780.1\t1958998\t1959000\t-\t53\tNC_035780.1\t1958375\t1959139\r\n",
      "NC_035780.1\t1958998\t1959000\t-\t53\tNC_035780.1\t1958375\t1959139\r\n",
      "NC_035780.1\t1958998\t1959000\t-\t53\tNC_035780.1\t1958375\t1959139\r\n",
      "NC_035780.1\t1958998\t1959000\t-\t53\tNC_035780.1\t1958375\t1959139\r\n",
      "NC_035780.1\t1958998\t1959000\t-\t53\tNC_035780.1\t1958375\t1959139\r\n",
      "NC_035780.1\t1958998\t1959000\t-\t53\tNC_035780.1\t1958375\t1959139\r\n",
      "NC_035780.1\t1983256\t1983258\t-\t-69\tNC_035780.1\t1983248\t1983390\r\n",
      "NC_035780.1\t2538924\t2538926\t-\t-50\tNC_035780.1\t2538624\t2538955\r\n"
     ]
    }
   ],
   "source": [
    "!head 2018-10-22-DML-Exon.txt"
   ]
  },
  {
   "cell_type": "markdown",
   "metadata": {},
   "source": [
    "#### Introns"
   ]
  },
  {
   "cell_type": "code",
   "execution_count": 21,
   "metadata": {
    "collapsed": false,
    "scrolled": true
   },
   "outputs": [
    {
     "name": "stdout",
     "output_type": "stream",
     "text": [
      "     498\n",
      "overlaps with introns\n"
     ]
    }
   ],
   "source": [
    "! /Users/Shared/bioinformatics/bedtools2/bin/intersectBed \\\n",
    "-u \\\n",
    "-a ../2018-10-11-MethylKit-Parameter-Testing/2018-10-22-DML-Locations.bed \\\n",
    "-b ../2018-06-11-DML-Analysis/C_virginica-3.0_intron.bed \\\n",
    "| wc -l\n",
    "!echo \"overlaps with introns\""
   ]
  },
  {
   "cell_type": "code",
   "execution_count": 24,
   "metadata": {
    "collapsed": true
   },
   "outputs": [],
   "source": [
    "! /Users/Shared/bioinformatics/bedtools2/bin/intersectBed \\\n",
    "-wb \\\n",
    "-a ../2018-10-11-MethylKit-Parameter-Testing/2018-10-22-DML-Locations.bed \\\n",
    "-b ../2018-06-11-DML-Analysis/C_virginica-3.0_intron.bed \\\n",
    "> 2018-10-22-DML-Intron.txt"
   ]
  },
  {
   "cell_type": "code",
   "execution_count": 26,
   "metadata": {
    "collapsed": false
   },
   "outputs": [
    {
     "name": "stdout",
     "output_type": "stream",
     "text": [
      "NC_035780.1\t1882691\t1882693\t-\t52\tNC_035780.1\t1882356\t1882972\r\n",
      "NC_035780.1\t1885022\t1885024\t-\t61\tNC_035780.1\t1884755\t1886043\r\n",
      "NC_035780.1\t1933499\t1933501\t-\t53\tNC_035780.1\t1932877\t1933574\r\n",
      "NC_035780.1\t1945182\t1945184\t+\t55\tNC_035780.1\t1945169\t1946107\r\n",
      "NC_035780.1\t2541652\t2541654\t-\t-55\tNC_035780.1\t2538956\t2541769\r\n",
      "NC_035780.1\t2541726\t2541728\t+\t-50\tNC_035780.1\t2538956\t2541769\r\n",
      "NC_035780.1\t2541726\t2541728\t-\t-58\tNC_035780.1\t2538956\t2541769\r\n",
      "NC_035780.1\t2584492\t2584494\t+\t56\tNC_035780.1\t2584154\t2584505\r\n",
      "NC_035780.1\t2729868\t2729870\t-\t-50\tNC_035780.1\t2716215\t2733757\r\n",
      "NC_035780.1\t4288213\t4288215\t+\t-56\tNC_035780.1\t4288129\t4288231\r\n"
     ]
    }
   ],
   "source": [
    "!head 2018-10-22-DML-Intron.txt"
   ]
  },
  {
   "cell_type": "markdown",
   "metadata": {},
   "source": [
    "#### mRNA"
   ]
  },
  {
   "cell_type": "code",
   "execution_count": 27,
   "metadata": {
    "collapsed": false,
    "scrolled": true
   },
   "outputs": [
    {
     "name": "stdout",
     "output_type": "stream",
     "text": [
      "    1263\n",
      "overlaps with mRNA\n"
     ]
    }
   ],
   "source": [
    "! /Users/Shared/bioinformatics/bedtools2/bin/intersectBed \\\n",
    "-u \\\n",
    "-a ../2018-10-11-MethylKit-Parameter-Testing/2018-10-22-DML-Locations.bed \\\n",
    "-b ../2018-06-11-DML-Analysis/C_virginica-3.0_Gnomon_mRNA.gff3 \\\n",
    "| wc -l\n",
    "!echo \"overlaps with mRNA\""
   ]
  },
  {
   "cell_type": "code",
   "execution_count": 28,
   "metadata": {
    "collapsed": true
   },
   "outputs": [],
   "source": [
    "! /Users/Shared/bioinformatics/bedtools2/bin/intersectBed \\\n",
    "-wb \\\n",
    "-a ../2018-10-11-MethylKit-Parameter-Testing/2018-10-22-DML-Locations.bed \\\n",
    "-b ../2018-06-11-DML-Analysis/C_virginica-3.0_Gnomon_mRNA.gff3 \\\n",
    "> 2018-10-22-DML-mRNA.txt"
   ]
  },
  {
   "cell_type": "code",
   "execution_count": 29,
   "metadata": {
    "collapsed": false
   },
   "outputs": [
    {
     "name": "stdout",
     "output_type": "stream",
     "text": [
      "NC_035780.1\t346071\t346073\t-\t50\tNC_035780.1\tGnomon\tmRNA\t341638\t349379\t.\t-\t.\tID=rna30;Parent=gene22;Dbxref=GeneID:111113503,Genbank:XM_022451800.1;Name=XM_022451800.1;gbkey=mRNA;gene=LOC111113503;model_evidence=Supporting evidence includes similarity to: 4 Proteins%2C and 100%25 coverage of the annotated genomic feature by RNAseq alignments%2C including 2 samples with support for all annotated introns;product=F-box only protein 47-like;transcript_id=XM_022451800.1\r\n",
      "NC_035780.1\t990995\t990997\t-\t-51\tNC_035780.1\tGnomon\tmRNA\t984471\t995318\t.\t-\t.\tID=rna117;Parent=gene66;Dbxref=GeneID:111137104,Genbank:XM_022488366.1;Name=XM_022488366.1;gbkey=mRNA;gene=LOC111137104;model_evidence=Supporting evidence includes similarity to: 1 EST%2C 3 Proteins%2C and 99%25 coverage of the annotated genomic feature by RNAseq alignments;product=SWI/SNF complex subunit SMARCC2-like;transcript_id=XM_022488366.1\r\n",
      "NC_035780.1\t1882691\t1882693\t-\t52\tNC_035780.1\tGnomon\tmRNA\t1882143\t1890106\t.\t-\t.\tID=rna155;Parent=gene95;Dbxref=GeneID:111102448,Genbank:XM_022435197.1;Name=XM_022435197.1;gbkey=mRNA;gene=LOC111102448;model_evidence=Supporting evidence includes similarity to: 25 Proteins%2C and 93%25 coverage of the annotated genomic feature by RNAseq alignments;product=NADH dehydrogenase [ubiquinone] flavoprotein 1%2C mitochondrial-like;transcript_id=XM_022435197.1\r\n",
      "NC_035780.1\t1885022\t1885024\t-\t61\tNC_035780.1\tGnomon\tmRNA\t1882143\t1890106\t.\t-\t.\tID=rna155;Parent=gene95;Dbxref=GeneID:111102448,Genbank:XM_022435197.1;Name=XM_022435197.1;gbkey=mRNA;gene=LOC111102448;model_evidence=Supporting evidence includes similarity to: 25 Proteins%2C and 93%25 coverage of the annotated genomic feature by RNAseq alignments;product=NADH dehydrogenase [ubiquinone] flavoprotein 1%2C mitochondrial-like;transcript_id=XM_022435197.1\r\n",
      "NC_035780.1\t1933499\t1933501\t-\t53\tNC_035780.1\tGnomon\tmRNA\t1928718\t1940217\t.\t+\t.\tID=rna160;Parent=gene98;Dbxref=GeneID:111100652,Genbank:XM_022432742.1;Name=XM_022432742.1;Note=The sequence of the model RefSeq transcript was modified relative to this genomic sequence to represent the inferred CDS: inserted 3 bases in 2 codons;exception=unclassified transcription discrepancy;gbkey=mRNA;gene=LOC111100652;model_evidence=Supporting evidence includes similarity to: 3 Proteins%2C and 96%25 coverage of the annotated genomic feature by RNAseq alignments%2C including 24 samples with support for all annotated introns;product=oxysterol-binding protein-related protein 11-like;transcript_id=XM_022432742.1\r\n",
      "NC_035780.1\t1945182\t1945184\t+\t55\tNC_035780.1\tGnomon\tmRNA\t1940413\t1952761\t.\t-\t.\tID=rna161;Parent=gene99;Dbxref=GeneID:111134791,Genbank:XM_022484176.1;Name=XM_022484176.1;Note=The sequence of the model RefSeq transcript was modified relative to this genomic sequence to represent the inferred CDS: inserted 1 base in 1 codon;exception=unclassified transcription discrepancy;gbkey=mRNA;gene=LOC111134791;model_evidence=Supporting evidence includes similarity to: 2 Proteins%2C and 99%25 coverage of the annotated genomic feature by RNAseq alignments;product=uncharacterized LOC111134791;transcript_id=XM_022484176.1\r\n",
      "NC_035780.1\t1958998\t1959000\t-\t53\tNC_035780.1\tGnomon\tmRNA\t1955555\t1965769\t.\t-\t.\tID=rna166;Parent=gene100;Dbxref=GeneID:111128971,Genbank:XM_022474991.1;Name=XM_022474991.1;gbkey=mRNA;gene=LOC111128971;model_evidence=Supporting evidence includes similarity to: 24 Proteins%2C and 100%25 coverage of the annotated genomic feature by RNAseq alignments%2C including 13 samples with support for all annotated introns;product=double-stranded RNA-specific editase 1-like%2C transcript variant X5;transcript_id=XM_022474991.1\r\n",
      "NC_035780.1\t1958998\t1959000\t-\t53\tNC_035780.1\tGnomon\tmRNA\t1955555\t1961628\t.\t-\t.\tID=rna167;Parent=gene100;Dbxref=GeneID:111128971,Genbank:XM_022475001.1;Name=XM_022475001.1;gbkey=mRNA;gene=LOC111128971;model_evidence=Supporting evidence includes similarity to: 24 Proteins%2C and 100%25 coverage of the annotated genomic feature by RNAseq alignments%2C including 9 samples with support for all annotated introns;product=double-stranded RNA-specific editase 1-like%2C transcript variant X6;transcript_id=XM_022475001.1\r\n",
      "NC_035780.1\t1958998\t1959000\t-\t53\tNC_035780.1\tGnomon\tmRNA\t1955555\t1981097\t.\t-\t.\tID=rna162;Parent=gene100;Dbxref=GeneID:111128971,Genbank:XM_022474964.1;Name=XM_022474964.1;gbkey=mRNA;gene=LOC111128971;model_evidence=Supporting evidence includes similarity to: 26 Proteins%2C and 100%25 coverage of the annotated genomic feature by RNAseq alignments%2C including 13 samples with support for all annotated introns;product=double-stranded RNA-specific editase 1-like%2C transcript variant X2;transcript_id=XM_022474964.1\r\n",
      "NC_035780.1\t1958998\t1959000\t-\t53\tNC_035780.1\tGnomon\tmRNA\t1955555\t1981072\t.\t-\t.\tID=rna163;Parent=gene100;Dbxref=GeneID:111128971,Genbank:XM_022474974.1;Name=XM_022474974.1;gbkey=mRNA;gene=LOC111128971;model_evidence=Supporting evidence includes similarity to: 26 Proteins%2C and 100%25 coverage of the annotated genomic feature by RNAseq alignments%2C including 8 samples with support for all annotated introns;product=double-stranded RNA-specific editase 1-like%2C transcript variant X3;transcript_id=XM_022474974.1\r\n"
     ]
    }
   ],
   "source": [
    "!head 2018-10-22-DML-mRNA.txt"
   ]
  },
  {
   "cell_type": "markdown",
   "metadata": {},
   "source": [
    "I know how many overlaps there are, but I also want to know how many unique genes have DMLs in them. For this, I will use the following code:\n",
    "\n",
    "`cut -f14 2018-10-22-DML-mRNA.txt | sort | uniq -c`\n",
    "\n",
    "`cut` is the command that isolates the column information. The column is piped into `sort`, then that output is counted for unique lines by `uniq`. I will save the output from this command as a new file."
   ]
  },
  {
   "cell_type": "code",
   "execution_count": 30,
   "metadata": {
    "collapsed": false
   },
   "outputs": [],
   "source": [
    "! cut -f14 2018-10-22-DML-mRNA.txt | sort | uniq -c > 2018-10-22-Unique-Genes-in-DML-mRNA-Overlap.txt"
   ]
  },
  {
   "cell_type": "code",
   "execution_count": 31,
   "metadata": {
    "collapsed": false
   },
   "outputs": [
    {
     "name": "stdout",
     "output_type": "stream",
     "text": [
      "   1 ID=rna10015;Parent=gene5875;Dbxref=GeneID:111118923,Genbank:XM_022458638.1;Name=XM_022458638.1;gbkey=mRNA;gene=LOC111118923;model_evidence=Supporting evidence includes similarity to: 4 Proteins%2C and 100%25 coverage of the annotated genomic feature by RNAseq alignments%2C including 8 samples with support for all annotated introns;product=copper transporter 2-like;transcript_id=XM_022458638.1\r\n",
      "   1 ID=rna10016;Parent=gene5876;Dbxref=GeneID:111118921,Genbank:XM_022458637.1;Name=XM_022458637.1;gbkey=mRNA;gene=LOC111118921;model_evidence=Supporting evidence includes similarity to: 100%25 coverage of the annotated genomic feature by RNAseq alignments%2C including 24 samples with support for all annotated introns;product=uncharacterized LOC111118921;transcript_id=XM_022458637.1\r\n",
      "   1 ID=rna10055;Parent=gene5904;Dbxref=GeneID:111121117,Genbank:XM_022462246.1;Name=XM_022462246.1;gbkey=mRNA;gene=LOC111121117;model_evidence=Supporting evidence includes similarity to: 4 Proteins%2C and 100%25 coverage of the annotated genomic feature by RNAseq alignments%2C including 18 samples with support for all annotated introns;product=serine/threonine-protein kinase Nek8-like;transcript_id=XM_022462246.1\r\n",
      "   1 ID=rna10085;Parent=gene5925;Dbxref=GeneID:111119175,Genbank:XM_022459053.1;Name=XM_022459053.1;gbkey=mRNA;gene=LOC111119175;model_evidence=Supporting evidence includes similarity to: 8 Proteins%2C and 100%25 coverage of the annotated genomic feature by RNAseq alignments%2C including 11 samples with support for all annotated introns;product=laminin subunit alpha-like;transcript_id=XM_022459053.1\r\n",
      "   1 ID=rna10108;Parent=gene5937;Dbxref=GeneID:111118049,Genbank:XM_022457336.1;Name=XM_022457336.1;Note=The sequence of the model RefSeq transcript was modified relative to this genomic sequence to represent the inferred CDS: inserted 1 base in 1 codon;exception=unclassified transcription discrepancy;gbkey=mRNA;gene=LOC111118049;model_evidence=Supporting evidence includes similarity to: 19 Proteins%2C and 100%25 coverage of the annotated genomic feature by RNAseq alignments%2C including 19 samples with support for all annotated introns;product=eukaryotic translation initiation factor 2 subunit 1-like;transcript_id=XM_022457336.1\r\n",
      "   2 ID=rna10111;Parent=gene5940;Dbxref=GeneID:111120228,Genbank:XM_022460956.1;Name=XM_022460956.1;Note=The sequence of the model RefSeq transcript was modified relative to this genomic sequence to represent the inferred CDS: inserted 6 bases in 6 codons;exception=unclassified transcription discrepancy;gbkey=mRNA;gene=LOC111120228;model_evidence=Supporting evidence includes similarity to: 2 Proteins%2C and 87%25 coverage of the annotated genomic feature by RNAseq alignments;product=uncharacterized LOC111120228;transcript_id=XM_022460956.1\r\n",
      "   2 ID=rna10138;Parent=gene5965;Dbxref=GeneID:111119372,Genbank:XM_022459466.1;Name=XM_022459466.1;gbkey=mRNA;gene=LOC111119372;model_evidence=Supporting evidence includes similarity to: 1 EST%2C 11 Proteins%2C and 100%25 coverage of the annotated genomic feature by RNAseq alignments%2C including 26 samples with support for all annotated introns;product=tyrosine-protein kinase SRK2-like;transcript_id=XM_022459466.1\r\n",
      "   1 ID=rna10160;Parent=gene5977;Dbxref=GeneID:111118095,Genbank:XM_022457401.1;Name=XM_022457401.1;Note=The sequence of the model RefSeq transcript was modified relative to this genomic sequence to represent the inferred CDS: inserted 12 bases in 10 codons;exception=unclassified transcription discrepancy;gbkey=mRNA;gene=LOC111118095;model_evidence=Supporting evidence includes similarity to: 5 Proteins%2C and 96%25 coverage of the annotated genomic feature by RNAseq alignments;product=uncharacterized LOC111118095;transcript_id=XM_022457401.1\r\n",
      "   1 ID=rna10174;Parent=gene5983;Dbxref=GeneID:111118794,Genbank:XM_022458422.1;Name=XM_022458422.1;gbkey=mRNA;gene=LOC111118794;model_evidence=Supporting evidence includes similarity to: 8 Proteins%2C and 99%25 coverage of the annotated genomic feature by RNAseq alignments;product=folliculin-interacting protein 1-like;transcript_id=XM_022458422.1\r\n",
      "   1 ID=rna10182;Parent=gene5989;Dbxref=GeneID:111121400,Genbank:XM_022462674.1;Name=XM_022462674.1;gbkey=mRNA;gene=LOC111121400;model_evidence=Supporting evidence includes similarity to: 3 Proteins%2C and 100%25 coverage of the annotated genomic feature by RNAseq alignments%2C including 16 samples with support for all annotated introns;product=DNA excision repair protein ERCC-6-like;transcript_id=XM_022462674.1\r\n"
     ]
    }
   ],
   "source": [
    "!head 2018-10-22-Unique-Genes-in-DML-mRNA-Overlap.txt"
   ]
  },
  {
   "cell_type": "code",
   "execution_count": 32,
   "metadata": {
    "collapsed": false
   },
   "outputs": [
    {
     "name": "stdout",
     "output_type": "stream",
     "text": [
      "    2683 2018-10-22-Unique-Genes-in-DML-mRNA-Overlap.txt\r\n"
     ]
    }
   ],
   "source": [
    "!wc -l 2018-10-22-Unique-Genes-in-DML-mRNA-Overlap.txt"
   ]
  },
  {
   "cell_type": "markdown",
   "metadata": {},
   "source": [
    "The DMLs overlap with 2683 unique genes."
   ]
  },
  {
   "cell_type": "markdown",
   "metadata": {},
   "source": [
    "It's also useful to understand where the CG regions are in relation to exons, introns, and mRNA!"
   ]
  },
  {
   "cell_type": "code",
   "execution_count": 34,
   "metadata": {
    "collapsed": false
   },
   "outputs": [
    {
     "name": "stdout",
     "output_type": "stream",
     "text": [
      "  636270\n",
      "overlaps with exons\n"
     ]
    }
   ],
   "source": [
    "! /Users/Shared/bioinformatics/bedtools2/bin/intersectBed \\\n",
    "-u \\\n",
    "-a ../2018-06-11-DML-Analysis/C_virginica-3.0_Gnomon_exon.bed \\\n",
    "-b ../2018-06-11-DML-Analysis/C_virginica-3.0_CG-motif.bed \\\n",
    "| wc -l\n",
    "!echo \"overlaps with exons\""
   ]
  },
  {
   "cell_type": "markdown",
   "metadata": {},
   "source": [
    "Proportion exon overlap with CG motifs:"
   ]
  },
  {
   "cell_type": "code",
   "execution_count": 16,
   "metadata": {
    "collapsed": false
   },
   "outputs": [
    {
     "data": {
      "text/plain": [
       "0.04400602184027157"
      ]
     },
     "execution_count": 16,
     "metadata": {},
     "output_type": "execute_result"
    }
   ],
   "source": [
    "636270/14458703"
   ]
  },
  {
   "cell_type": "code",
   "execution_count": 35,
   "metadata": {
    "collapsed": true
   },
   "outputs": [],
   "source": [
    "! /Users/Shared/bioinformatics/bedtools2/bin/intersectBed \\\n",
    "-wb \\\n",
    "-a ../2018-06-11-DML-Analysis/C_virginica-3.0_Gnomon_exon.bed \\\n",
    "-b ../2018-06-11-DML-Analysis/C_virginica-3.0_CG-motif.bed \\\n",
    "> 2018-10-22-Exon-CGmotif.txt"
   ]
  },
  {
   "cell_type": "code",
   "execution_count": 36,
   "metadata": {
    "collapsed": false,
    "scrolled": false
   },
   "outputs": [
    {
     "name": "stdout",
     "output_type": "stream",
     "text": [
      "NC_035780.1\t13597\t13599\tNC_035780.1\t13597\t13599\tCG_motif\r\n",
      "NC_035780.1\t28992\t28994\tNC_035780.1\t28992\t28994\tCG_motif\r\n",
      "NC_035780.1\t29001\t29003\tNC_035780.1\t29001\t29003\tCG_motif\r\n",
      "NC_035780.1\t29028\t29030\tNC_035780.1\t29028\t29030\tCG_motif\r\n",
      "NC_035780.1\t30539\t30541\tNC_035780.1\t30539\t30541\tCG_motif\r\n",
      "NC_035780.1\t30574\t30576\tNC_035780.1\t30574\t30576\tCG_motif\r\n",
      "NC_035780.1\t30602\t30604\tNC_035780.1\t30602\t30604\tCG_motif\r\n",
      "NC_035780.1\t30676\t30678\tNC_035780.1\t30676\t30678\tCG_motif\r\n",
      "NC_035780.1\t30695\t30697\tNC_035780.1\t30695\t30697\tCG_motif\r\n",
      "NC_035780.1\t30723\t30725\tNC_035780.1\t30723\t30725\tCG_motif\r\n"
     ]
    }
   ],
   "source": [
    "!head 2018-10-22-Exon-CGmotif.txt"
   ]
  },
  {
   "cell_type": "code",
   "execution_count": 39,
   "metadata": {
    "collapsed": false
   },
   "outputs": [
    {
     "name": "stdout",
     "output_type": "stream",
     "text": [
      "  245500\n",
      "overlaps with introns\n"
     ]
    }
   ],
   "source": [
    "! /Users/Shared/bioinformatics/bedtools2/bin/intersectBed \\\n",
    "-u \\\n",
    "-a ../2018-06-11-DML-Analysis/C_virginica-3.0_intron.bed \\\n",
    "-b ../2018-06-11-DML-Analysis/C_virginica-3.0_CG-motif.bed \\\n",
    "| wc -l\n",
    "!echo \"overlaps with introns\""
   ]
  },
  {
   "cell_type": "markdown",
   "metadata": {},
   "source": [
    "Proportion intron overlap with CG motifs:"
   ]
  },
  {
   "cell_type": "code",
   "execution_count": 17,
   "metadata": {
    "collapsed": false
   },
   "outputs": [
    {
     "data": {
      "text/plain": [
       "0.016979392964915317"
      ]
     },
     "execution_count": 17,
     "metadata": {},
     "output_type": "execute_result"
    }
   ],
   "source": [
    "245500/14458703"
   ]
  },
  {
   "cell_type": "code",
   "execution_count": 40,
   "metadata": {
    "collapsed": true
   },
   "outputs": [],
   "source": [
    "! /Users/Shared/bioinformatics/bedtools2/bin/intersectBed \\\n",
    "-wb \\\n",
    "-a ../2018-06-11-DML-Analysis/C_virginica-3.0_intron.bed \\\n",
    "-b ../2018-06-11-DML-Analysis/C_virginica-3.0_CG-motif.bed \\\n",
    "> 2018-10-22-Intron-CGmotif.txt"
   ]
  },
  {
   "cell_type": "code",
   "execution_count": 41,
   "metadata": {
    "collapsed": false
   },
   "outputs": [
    {
     "name": "stdout",
     "output_type": "stream",
     "text": [
      "NC_035780.1\t29180\t29182\tNC_035780.1\t29180\t29182\tCG_motif\r\n",
      "NC_035780.1\t29203\t29205\tNC_035780.1\t29203\t29205\tCG_motif\r\n",
      "NC_035780.1\t29221\t29223\tNC_035780.1\t29221\t29223\tCG_motif\r\n",
      "NC_035780.1\t29295\t29297\tNC_035780.1\t29295\t29297\tCG_motif\r\n",
      "NC_035780.1\t29323\t29325\tNC_035780.1\t29323\t29325\tCG_motif\r\n",
      "NC_035780.1\t29326\t29328\tNC_035780.1\t29326\t29328\tCG_motif\r\n",
      "NC_035780.1\t29412\t29414\tNC_035780.1\t29412\t29414\tCG_motif\r\n",
      "NC_035780.1\t29452\t29454\tNC_035780.1\t29452\t29454\tCG_motif\r\n",
      "NC_035780.1\t29672\t29674\tNC_035780.1\t29672\t29674\tCG_motif\r\n",
      "NC_035780.1\t29758\t29760\tNC_035780.1\t29758\t29760\tCG_motif\r\n"
     ]
    }
   ],
   "source": [
    "!head 2018-10-22-Intron-CGmotif.txt"
   ]
  },
  {
   "cell_type": "code",
   "execution_count": 42,
   "metadata": {
    "collapsed": false
   },
   "outputs": [
    {
     "name": "stdout",
     "output_type": "stream",
     "text": [
      "   60195\n",
      "overlaps with mRNA\n"
     ]
    }
   ],
   "source": [
    "! /Users/Shared/bioinformatics/bedtools2/bin/intersectBed \\\n",
    "-u \\\n",
    "-a ../2018-06-11-DML-Analysis/C_virginica-3.0_Gnomon_mRNA.gff3 \\\n",
    "-b ../2018-06-11-DML-Analysis/C_virginica-3.0_CG-motif.bed \\\n",
    "| wc -l\n",
    "!echo \"overlaps with mRNA\""
   ]
  },
  {
   "cell_type": "markdown",
   "metadata": {},
   "source": [
    "Proportion mRNA overlap with CG motifs:"
   ]
  },
  {
   "cell_type": "code",
   "execution_count": 18,
   "metadata": {
    "collapsed": false
   },
   "outputs": [
    {
     "data": {
      "text/plain": [
       "0.004163236495002352"
      ]
     },
     "execution_count": 18,
     "metadata": {},
     "output_type": "execute_result"
    }
   ],
   "source": [
    "60195/14458703"
   ]
  },
  {
   "cell_type": "code",
   "execution_count": 43,
   "metadata": {
    "collapsed": true
   },
   "outputs": [],
   "source": [
    "! /Users/Shared/bioinformatics/bedtools2/bin/intersectBed \\\n",
    "-wb \\\n",
    "-a ../2018-06-11-DML-Analysis/C_virginica-3.0_Gnomon_mRNA.gff3 \\\n",
    "-b ../2018-06-11-DML-Analysis/C_virginica-3.0_CG-motif.bed \\\n",
    "> 2018-10-22-mRNA-CGmotif.txt"
   ]
  },
  {
   "cell_type": "code",
   "execution_count": 44,
   "metadata": {
    "collapsed": false
   },
   "outputs": [
    {
     "name": "stdout",
     "output_type": "stream",
     "text": [
      "NC_035780.1\tGnomon\tmRNA\t28993\t28994\t.\t+\t.\tID=rna1;Parent=gene1;Dbxref=GeneID:111126949,Genbank:XM_022471938.1;Name=XM_022471938.1;gbkey=mRNA;gene=LOC111126949;model_evidence=Supporting evidence includes similarity to: 3 Proteins%2C and 100%25 coverage of the annotated genomic feature by RNAseq alignments%2C including 21 samples with support for all annotated introns;product=UNC5C-like protein;transcript_id=XM_022471938.1\tNC_035780.1\t28992\t28994\tCG_motif\r\n",
      "NC_035780.1\tGnomon\tmRNA\t29002\t29003\t.\t+\t.\tID=rna1;Parent=gene1;Dbxref=GeneID:111126949,Genbank:XM_022471938.1;Name=XM_022471938.1;gbkey=mRNA;gene=LOC111126949;model_evidence=Supporting evidence includes similarity to: 3 Proteins%2C and 100%25 coverage of the annotated genomic feature by RNAseq alignments%2C including 21 samples with support for all annotated introns;product=UNC5C-like protein;transcript_id=XM_022471938.1\tNC_035780.1\t29001\t29003\tCG_motif\r\n",
      "NC_035780.1\tGnomon\tmRNA\t29029\t29030\t.\t+\t.\tID=rna1;Parent=gene1;Dbxref=GeneID:111126949,Genbank:XM_022471938.1;Name=XM_022471938.1;gbkey=mRNA;gene=LOC111126949;model_evidence=Supporting evidence includes similarity to: 3 Proteins%2C and 100%25 coverage of the annotated genomic feature by RNAseq alignments%2C including 21 samples with support for all annotated introns;product=UNC5C-like protein;transcript_id=XM_022471938.1\tNC_035780.1\t29028\t29030\tCG_motif\r\n",
      "NC_035780.1\tGnomon\tmRNA\t29181\t29182\t.\t+\t.\tID=rna1;Parent=gene1;Dbxref=GeneID:111126949,Genbank:XM_022471938.1;Name=XM_022471938.1;gbkey=mRNA;gene=LOC111126949;model_evidence=Supporting evidence includes similarity to: 3 Proteins%2C and 100%25 coverage of the annotated genomic feature by RNAseq alignments%2C including 21 samples with support for all annotated introns;product=UNC5C-like protein;transcript_id=XM_022471938.1\tNC_035780.1\t29180\t29182\tCG_motif\r\n",
      "NC_035780.1\tGnomon\tmRNA\t29204\t29205\t.\t+\t.\tID=rna1;Parent=gene1;Dbxref=GeneID:111126949,Genbank:XM_022471938.1;Name=XM_022471938.1;gbkey=mRNA;gene=LOC111126949;model_evidence=Supporting evidence includes similarity to: 3 Proteins%2C and 100%25 coverage of the annotated genomic feature by RNAseq alignments%2C including 21 samples with support for all annotated introns;product=UNC5C-like protein;transcript_id=XM_022471938.1\tNC_035780.1\t29203\t29205\tCG_motif\r\n",
      "NC_035780.1\tGnomon\tmRNA\t29222\t29223\t.\t+\t.\tID=rna1;Parent=gene1;Dbxref=GeneID:111126949,Genbank:XM_022471938.1;Name=XM_022471938.1;gbkey=mRNA;gene=LOC111126949;model_evidence=Supporting evidence includes similarity to: 3 Proteins%2C and 100%25 coverage of the annotated genomic feature by RNAseq alignments%2C including 21 samples with support for all annotated introns;product=UNC5C-like protein;transcript_id=XM_022471938.1\tNC_035780.1\t29221\t29223\tCG_motif\r\n",
      "NC_035780.1\tGnomon\tmRNA\t29296\t29297\t.\t+\t.\tID=rna1;Parent=gene1;Dbxref=GeneID:111126949,Genbank:XM_022471938.1;Name=XM_022471938.1;gbkey=mRNA;gene=LOC111126949;model_evidence=Supporting evidence includes similarity to: 3 Proteins%2C and 100%25 coverage of the annotated genomic feature by RNAseq alignments%2C including 21 samples with support for all annotated introns;product=UNC5C-like protein;transcript_id=XM_022471938.1\tNC_035780.1\t29295\t29297\tCG_motif\r\n",
      "NC_035780.1\tGnomon\tmRNA\t29324\t29325\t.\t+\t.\tID=rna1;Parent=gene1;Dbxref=GeneID:111126949,Genbank:XM_022471938.1;Name=XM_022471938.1;gbkey=mRNA;gene=LOC111126949;model_evidence=Supporting evidence includes similarity to: 3 Proteins%2C and 100%25 coverage of the annotated genomic feature by RNAseq alignments%2C including 21 samples with support for all annotated introns;product=UNC5C-like protein;transcript_id=XM_022471938.1\tNC_035780.1\t29323\t29325\tCG_motif\r\n",
      "NC_035780.1\tGnomon\tmRNA\t29327\t29328\t.\t+\t.\tID=rna1;Parent=gene1;Dbxref=GeneID:111126949,Genbank:XM_022471938.1;Name=XM_022471938.1;gbkey=mRNA;gene=LOC111126949;model_evidence=Supporting evidence includes similarity to: 3 Proteins%2C and 100%25 coverage of the annotated genomic feature by RNAseq alignments%2C including 21 samples with support for all annotated introns;product=UNC5C-like protein;transcript_id=XM_022471938.1\tNC_035780.1\t29326\t29328\tCG_motif\r\n",
      "NC_035780.1\tGnomon\tmRNA\t29413\t29414\t.\t+\t.\tID=rna1;Parent=gene1;Dbxref=GeneID:111126949,Genbank:XM_022471938.1;Name=XM_022471938.1;gbkey=mRNA;gene=LOC111126949;model_evidence=Supporting evidence includes similarity to: 3 Proteins%2C and 100%25 coverage of the annotated genomic feature by RNAseq alignments%2C including 21 samples with support for all annotated introns;product=UNC5C-like protein;transcript_id=XM_022471938.1\tNC_035780.1\t29412\t29414\tCG_motif\r\n"
     ]
    }
   ],
   "source": [
    "!head 2018-10-22-mRNA-CGmotif.txt"
   ]
  },
  {
   "cell_type": "markdown",
   "metadata": {},
   "source": [
    "## 2. Calculate Overlap Proportions"
   ]
  },
  {
   "cell_type": "markdown",
   "metadata": {},
   "source": [
    "It's important to understand how many overlaps are present between various feature tracks and CG motifs. CG motifs are where we expect methylation to happen. If there are more overlaps present bewteen a certain feature and the CG motifs, we would expect to see most of our DMLs in that region. I also want to understand overlap proportions with DMLS. \n",
    "\n",
    "Here are the questions I will answer:\n",
    "\n",
    "1. Out the total number of CG motifs, how many overlaped with a feature track?\n",
    "2. What proportion of total overlaps does a certain feature track represent?\n",
    "3. Out the total number of DMLs, how many overlaped with a feature track?"
   ]
  },
  {
   "cell_type": "markdown",
   "metadata": {},
   "source": [
    "### 2a. CG motif Overlaps with Feature Tracks"
   ]
  },
  {
   "cell_type": "markdown",
   "metadata": {
    "collapsed": true
   },
   "source": [
    "I already calculated the numbers associated with the first question in the first section. I'll remind you of those numbers:\n",
    "\n",
    "- Proportion exon overlap with CG motifs: 4.40% (0.04400602184027157)\n",
    "- Proportion intron overlap with CG motifs: 1.70% (0.016979392964915317)\n",
    "- Proportion mRNA overlap with CG motifs: 0.42% (0.004163236495002352)"
   ]
  },
  {
   "cell_type": "markdown",
   "metadata": {
    "collapsed": true
   },
   "source": [
    "### 2b. Proportion Total Overlaps by Feature Track"
   ]
  },
  {
   "cell_type": "markdown",
   "metadata": {
    "collapsed": true
   },
   "source": [
    "First, I need to calculate the total number of overlaps we had:\n",
    "\n",
    "(exon overlap with CG motifs) + (intron overlap with CG motifs) + (mRNA overlap with CG motifs)"
   ]
  },
  {
   "cell_type": "code",
   "execution_count": 13,
   "metadata": {
    "collapsed": false
   },
   "outputs": [
    {
     "data": {
      "text/plain": [
       "941965"
      ]
     },
     "execution_count": 13,
     "metadata": {},
     "output_type": "execute_result"
    }
   ],
   "source": [
    "636270 + 245500 + 60195"
   ]
  },
  {
   "cell_type": "markdown",
   "metadata": {
    "collapsed": true
   },
   "source": [
    "Now, I calculate the proportions:"
   ]
  },
  {
   "cell_type": "markdown",
   "metadata": {
    "collapsed": true
   },
   "source": [
    "Exons:"
   ]
  },
  {
   "cell_type": "code",
   "execution_count": 15,
   "metadata": {
    "collapsed": false
   },
   "outputs": [
    {
     "data": {
      "text/plain": [
       "0.6754709569888477"
      ]
     },
     "execution_count": 15,
     "metadata": {},
     "output_type": "execute_result"
    }
   ],
   "source": [
    "636270/941965"
   ]
  },
  {
   "cell_type": "markdown",
   "metadata": {
    "collapsed": true
   },
   "source": [
    "Introns:"
   ]
  },
  {
   "cell_type": "code",
   "execution_count": 16,
   "metadata": {
    "collapsed": false
   },
   "outputs": [
    {
     "data": {
      "text/plain": [
       "0.2606253947864305"
      ]
     },
     "execution_count": 16,
     "metadata": {},
     "output_type": "execute_result"
    }
   ],
   "source": [
    "245500/941965"
   ]
  },
  {
   "cell_type": "markdown",
   "metadata": {
    "collapsed": true
   },
   "source": [
    "mRNA:"
   ]
  },
  {
   "cell_type": "code",
   "execution_count": 17,
   "metadata": {
    "collapsed": false
   },
   "outputs": [
    {
     "data": {
      "text/plain": [
       "0.06390364822472172"
      ]
     },
     "execution_count": 17,
     "metadata": {},
     "output_type": "execute_result"
    }
   ],
   "source": [
    "60195/941965"
   ]
  },
  {
   "cell_type": "markdown",
   "metadata": {
    "collapsed": true
   },
   "source": [
    "- Proportion exon overlap with total overlaps: 67.55% (0.6754709569888477)\n",
    "- Proportion intron overlap with total overlaps: 26.06% (0.2606253947864305)\n",
    "- Proportion mRNA overlap with total overlaps: 6.39% (0.06390364822472172)"
   ]
  },
  {
   "cell_type": "markdown",
   "metadata": {},
   "source": [
    "### 2c. DML Overlaps with Feature Tracks"
   ]
  },
  {
   "cell_type": "markdown",
   "metadata": {},
   "source": [
    "Exons:"
   ]
  },
  {
   "cell_type": "code",
   "execution_count": 47,
   "metadata": {
    "collapsed": false
   },
   "outputs": [
    {
     "data": {
      "text/plain": [
       "0.5622317596566524"
      ]
     },
     "execution_count": 47,
     "metadata": {},
     "output_type": "execute_result"
    }
   ],
   "source": [
    "786/1398"
   ]
  },
  {
   "cell_type": "markdown",
   "metadata": {},
   "source": [
    "Introns:"
   ]
  },
  {
   "cell_type": "code",
   "execution_count": 46,
   "metadata": {
    "collapsed": false
   },
   "outputs": [
    {
     "data": {
      "text/plain": [
       "0.3562231759656652"
      ]
     },
     "execution_count": 46,
     "metadata": {},
     "output_type": "execute_result"
    }
   ],
   "source": [
    "498/1398"
   ]
  },
  {
   "cell_type": "markdown",
   "metadata": {},
   "source": [
    "mRNA:"
   ]
  },
  {
   "cell_type": "code",
   "execution_count": 45,
   "metadata": {
    "collapsed": false
   },
   "outputs": [
    {
     "data": {
      "text/plain": [
       "0.9034334763948498"
      ]
     },
     "execution_count": 45,
     "metadata": {},
     "output_type": "execute_result"
    }
   ],
   "source": [
    "1263/1398"
   ]
  },
  {
   "cell_type": "markdown",
   "metadata": {},
   "source": [
    "- Proportion exon overlap with DMLs: 56.22% (0.5622317596566524)\n",
    "- Proportion intron overlap with DMLs: 35.62% (0.3562231759656652)\n",
    "- Proportion mRNA overlap with DMLs: 90.34% (0.9034334763948498)"
   ]
  },
  {
   "cell_type": "markdown",
   "metadata": {},
   "source": [
    "# STILL DEVELOPING THE CONTENT BELOW NO GUARANTEES"
   ]
  },
  {
   "cell_type": "markdown",
   "metadata": {
    "collapsed": true
   },
   "source": [
    "## 3. Gene Flanking"
   ]
  },
  {
   "cell_type": "markdown",
   "metadata": {},
   "source": [
    "### 3a. `closest`\n",
    "\n",
    "After talking to Mac at PCSGA 2018, she suggested using BEDtools [`closest`](https://bedtools.readthedocs.io/en/latest/content/tools/closest.html) instead of `flank`. `closest` will find the nearest genomic feature, but not necessarily a non-overlapping feature. I can modify the code as follows:\n",
    "\n",
    "1. Path to `closestBed`\n",
    "2. -io: Ignore features in b that overlap with a\n",
    "3. -a: Path to mRNA gff\n",
    "4. -b: Specify either DML or CG motif file\n",
    "5. \">\" filename: Redirect output to a .txt file"
   ]
  },
  {
   "cell_type": "code",
   "execution_count": 6,
   "metadata": {
    "collapsed": false
   },
   "outputs": [
    {
     "name": "stdout",
     "output_type": "stream",
     "text": [
      "Error: Sorted input specified, but the file C_virginica-3.0_Gnomon_mRNA.gff3 has the following out of order record\r\n",
      "NC_035780.1\tGnomon\tmRNA\t2413594\t2416601\t.\t-\t.\tID=rna199;Parent=gene122;Dbxref=GeneID:111129373,Genbank:XM_022475729.1;Name=XM_022475729.1;gbkey=mRNA;gene=LOC111129373;model_evidence=Supporting evidence includes similarity to: 2 Proteins;product=mucin-2-like;transcript_id=XM_022475729.1\r\n"
     ]
    }
   ],
   "source": [
    "! /Users/Shared/bioinformatics/bedtools2/bin/closestBed \\\n",
    "-io \\\n",
    "-a C_virginica-3.0_Gnomon_mRNA.gff3 \\\n",
    "-b ../2018-05-29-MethylKit-Full-Samples/2018-05-30-DML-Locations.bed \\\n",
    "> 2018-09-26-mRNA-Closest-NoOverlap-DMLs.txt"
   ]
  },
  {
   "cell_type": "code",
   "execution_count": 7,
   "metadata": {
    "collapsed": false
   },
   "outputs": [
    {
     "name": "stdout",
     "output_type": "stream",
     "text": [
      "Error: Sorted input specified, but the file C_virginica-3.0_Gnomon_mRNA.gff3 has the following out of order record\r\n",
      "NC_035780.1\tGnomon\tmRNA\t2413594\t2416601\t.\t-\t.\tID=rna199;Parent=gene122;Dbxref=GeneID:111129373,Genbank:XM_022475729.1;Name=XM_022475729.1;gbkey=mRNA;gene=LOC111129373;model_evidence=Supporting evidence includes similarity to: 2 Proteins;product=mucin-2-like;transcript_id=XM_022475729.1\r\n"
     ]
    }
   ],
   "source": [
    "! /Users/Shared/bioinformatics/bedtools2/bin/closestBed \\\n",
    "-io \\\n",
    "-a C_virginica-3.0_Gnomon_mRNA.gff3 \\\n",
    "-b C_virginica-3.0_CG-motif.bed \\\n",
    "> 2018-09-26-mRNA-Closest-NoOverlap-CGmotifs.txt"
   ]
  },
  {
   "cell_type": "markdown",
   "metadata": {},
   "source": [
    "The file was created, but the mRNA file itself is unsorted. I need to see if this impacted the output."
   ]
  },
  {
   "cell_type": "markdown",
   "metadata": {},
   "source": [
    "# 4. Gene Enrichment Analysis"
   ]
  },
  {
   "cell_type": "markdown",
   "metadata": {},
   "source": [
    "See this [R Markdown File](https://github.com/RobertsLab/project-virginica-oa/blob/master/analyses/2018-06-11-DML-Analysis/2018-06-14-Gene-Enrichment-Analysis.Rmd) for Gene Enrichment Analysis information."
   ]
  }
 ],
 "metadata": {
  "anaconda-cloud": {},
  "kernelspec": {
   "display_name": "Python [default]",
   "language": "python",
   "name": "python3"
  },
  "language_info": {
   "codemirror_mode": {
    "name": "ipython",
    "version": 3
   },
   "file_extension": ".py",
   "mimetype": "text/x-python",
   "name": "python",
   "nbconvert_exporter": "python",
   "pygments_lexer": "ipython3",
   "version": "3.5.2"
  }
 },
 "nbformat": 4,
 "nbformat_minor": 1
}
